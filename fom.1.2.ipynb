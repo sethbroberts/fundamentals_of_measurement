{
 "cells": [
  {
   "cell_type": "markdown",
   "metadata": {},
   "source": [
    "# Fundamentals of Measurement and Representation of Natural Systems\n",
    "\n",
    "## by Robert Rosen\n",
    "\n",
    "These notebooks are an accompaniment to Chapter 1 of Robert Rosen's Fundamentals of Measurement and Representation of Natural Systems (FOM). They represent an attempt to understand some of the concepts contained in this book. It is hoped that this work may provide others with an introduction to Rosen's book and some of the ideas surrounding equivalence relations, as well. The section headings used correspond to those in FOM. \n",
    "\n",
    "The main goal is a correct and transparent presentation of the underlying ideas. These notebooks are available as blog posts and on github (https://github.com/sethbroberts/fundamentals_of_measurement). The notebooks and the library of custom functions, fom.py, can be used to run the examples interactively. If you want to use fom.py, you should install the PartitionSets Python library (https://pypi.python.org/pypi/PartitionSets/0.1.1) and networkX (https://networkx.github.io/).\n",
    "\n",
    "This notebook covers section 1.2."
   ]
  },
  {
   "cell_type": "code",
   "execution_count": 1,
   "metadata": {
    "collapsed": false
   },
   "outputs": [],
   "source": [
    "%load_ext autoreload\n",
    "%autoreload 1\n",
    "%aimport fom\n",
    "import random"
   ]
  },
  {
   "cell_type": "markdown",
   "metadata": {},
   "source": [
    "### 1.2 Equivalence Relations and Cartesian Products"
   ]
  },
  {
   "cell_type": "markdown",
   "metadata": {},
   "source": [
    "#### Definition 1.2.1"
   ]
  },
  {
   "cell_type": "markdown",
   "metadata": {},
   "source": [
    "Define two sets, S1 and S2. Make their cartesian product, S = S1 x S2. Then make the natural projections as defined, using the 'fom' procedure make_natural_projections. "
   ]
  },
  {
   "cell_type": "code",
   "execution_count": 2,
   "metadata": {
    "collapsed": false
   },
   "outputs": [
    {
     "name": "stdout",
     "output_type": "stream",
     "text": [
      "[(('a', 'w'), 'a'), (('a', 'x'), 'a'), (('a', 'y'), 'a'), (('b', 'w'), 'b'), (('b', 'x'), 'b'), (('b', 'y'), 'b'), (('c', 'w'), 'c'), (('c', 'x'), 'c'), (('c', 'y'), 'c'), (('d', 'w'), 'd'), (('d', 'x'), 'd'), (('d', 'y'), 'd')]\n"
     ]
    }
   ],
   "source": [
    "S1 = ['a', 'b', 'c', 'd']\n",
    "S2 = ['w', 'x', 'y']\n",
    "S = fom.make_cartesian_product(S1, S2)\n",
    "pi_1, pi_2 = fom.make_natural_projections(S)\n",
    "print(pi_1)"
   ]
  },
  {
   "cell_type": "markdown",
   "metadata": {},
   "source": [
    "Note, there are some differences here from what's been discussed thus far. Now we have S = S1 x S2, i.e., S is a cartesian product of 2 other sets. We can still make S x S, the cartesian product of S with itself. Equivalence relations are subsets of S x S (not S1 x S2).\n",
    "\n",
    "So, in this case, S is much larger than in section 1.1. Here, elements of S look like ('x', 'y'), instead of 'x'. As before, the equivalence relations are subsets of S x S. Thus the members of the equivalence relation look like (('x', 'y'), ('a', 'b')).\n",
    "\n",
    "Just to illustrate these differences, print the number of relations on S and the number of equivalence relations on S."
   ]
  },
  {
   "cell_type": "code",
   "execution_count": 3,
   "metadata": {
    "collapsed": false
   },
   "outputs": [
    {
     "name": "stdout",
     "output_type": "stream",
     "text": [
      "number of relations on S:\n",
      "22300745198530623141535718272648361505980416\n",
      "\n",
      "number of equivalence relations on S:\n",
      "4213597\n"
     ]
    }
   ],
   "source": [
    "number_of_relations = 2**(len(S)*len(S))\n",
    "print('number of relations on S:')\n",
    "print(number_of_relations)\n",
    "print()\n",
    "number_of_equivalence_relations = fom.calculate_number_of_partitions(len(S))\n",
    "print('number of equivalence relations on S:')\n",
    "print(number_of_equivalence_relations)  "
   ]
  },
  {
   "cell_type": "markdown",
   "metadata": {},
   "source": [
    "So here, it's probably not a good idea to make all possible equivalence relations. Although, we have written a routine to randomly generate an equivalence relation, given a set S."
   ]
  },
  {
   "cell_type": "code",
   "execution_count": 7,
   "metadata": {
    "collapsed": false
   },
   "outputs": [
    {
     "name": "stdout",
     "output_type": "stream",
     "text": [
      "[('a', 'w')]\n",
      "[('a', 'x'), ('c', 'w'), ('d', 'y')]\n",
      "[('a', 'y'), ('b', 'y')]\n",
      "[('b', 'w')]\n",
      "[('b', 'x'), ('c', 'y'), ('d', 'w'), ('d', 'x')]\n",
      "[('c', 'x')]\n"
     ]
    }
   ],
   "source": [
    "ER = fom.make_random_equivalence_relation(S)\n",
    "P = fom.find_partition_from_equivalence_relation(ER)\n",
    "for block in P:\n",
    "    print(block)"
   ]
  },
  {
   "cell_type": "markdown",
   "metadata": {},
   "source": [
    "#### Remark"
   ]
  },
  {
   "cell_type": "markdown",
   "metadata": {},
   "source": [
    "Make a set Y (ensure that its cardinality is greater than that of S1 and S2; this ensures we can actually make a relation that is a mapping, i.e., there is no y in Y such that yRa and yRb and a != b). Make mappings f and g from Y to S1 and S2, respectively. Then create the mapping phi. Show that the diagram commutes by comparing the partition on Y created by f, to that created by first applying phi and then pi_1. Do the same for the other half of the diagram: compare the partition on Y created by g, to that created by first applying phi and then pi_2."
   ]
  },
  {
   "cell_type": "code",
   "execution_count": 35,
   "metadata": {
    "collapsed": false
   },
   "outputs": [
    {
     "name": "stdout",
     "output_type": "stream",
     "text": [
      "[[1, 3, 9], [2, 8], [4, 5, 7], [6, 10]]\n",
      "[[1, 3, 9], [2, 8], [4, 5, 7], [6, 10]]\n",
      "\n",
      "[[1, 2, 3, 6, 8, 9], [4, 5, 7, 10]]\n",
      "[[1, 2, 3, 6, 8, 9], [4, 5, 7, 10]]\n"
     ]
    }
   ],
   "source": [
    "Y = [1, 2, 3, 4, 5, 6, 7, 8, 9, 10]\n",
    "f = fom.make_mapping(Y, S1)\n",
    "g = fom.make_mapping(Y, S2)\n",
    "phi = []\n",
    "for y in Y:\n",
    "    f_of_y = fom.evaluate_mapping(f, y)\n",
    "    g_of_y = fom.evaluate_mapping(g, y)\n",
    "    phi.append((y, (f_of_y, g_of_y)))\n",
    "P_f = fom.find_partition_from_mapping(f)\n",
    "P_g = fom.find_partition_from_mapping(g)\n",
    "P_phi_pi_1 = fom.find_partition_from_mapping(fom.compose_mappings(pi_1, phi))\n",
    "P_phi_pi_2 = fom.find_partition_from_mapping(fom.compose_mappings(pi_2, phi))\n",
    "print(P_f)\n",
    "print(P_phi_pi_1)\n",
    "print()\n",
    "print(P_g)\n",
    "print(P_phi_pi_2)"
   ]
  },
  {
   "cell_type": "markdown",
   "metadata": {},
   "source": [
    "S is a cartesian product of S1 and S2 if we can find pi_1: S -> S1 and pi_2: S -> S2 which exhibit the universal property above, involving any set Y and any pair of mappings f: Y -> S1 and g: Y -> S2."
   ]
  },
  {
   "cell_type": "markdown",
   "metadata": {},
   "source": [
    "After relating the natural projection to a specific equivalence relation on S, Rosen states, \"it is suggested that a cartesian product decomposition of S is equivalent to finding a pair of equivalence relations on S which possess some special properties.\" (pp. 8-9)."
   ]
  },
  {
   "cell_type": "markdown",
   "metadata": {},
   "source": [
    "#### Lemma 1.2.1"
   ]
  },
  {
   "cell_type": "markdown",
   "metadata": {},
   "source": [
    "Make S1 and S2. Then make S = S1 x S2. Make the natural projections, pi_1 and pi_2. Show that each R1-class intersects every R2-class, and that each R2-class intersects every R1-class. Show that the intersection of an R1-class with an R2-class contains exactly one element. Show that R1 union R2 is the trivial relation (one block in the partition).\n",
    "\n",
    "Although we have not used it below, note that check of these 3 conditions, given S, ER1, and ER2, is implemented in 'fom' as check_if_S_is_cartesian_product (i.e., one line of code will check this, given appropriate inputs)."
   ]
  },
  {
   "cell_type": "code",
   "execution_count": 8,
   "metadata": {
    "collapsed": false
   },
   "outputs": [
    {
     "name": "stdout",
     "output_type": "stream",
     "text": [
      "True True\n",
      "True\n",
      "True\n"
     ]
    }
   ],
   "source": [
    "S1 = ['a', 'b', 'c']\n",
    "S2 = ['w', 'x']\n",
    "S = fom.make_cartesian_product(S1, S2)\n",
    "pi_1, pi_2 = fom.make_natural_projections(S)\n",
    "p_1, p_2 = fom.find_partition_from_mapping(pi_1), fom.find_partition_from_mapping(pi_2)\n",
    "er_1, er_2 = fom.find_equivalence_relation_from_partition(p_1), fom.find_equivalence_relation_from_partition(p_2)\n",
    "\n",
    "each_R1_class_intersects_every_R2_class = True\n",
    "for block1 in p_1:\n",
    "    for block2 in p_2:\n",
    "        intersection = fom.calculate_intersection(block1, block2)\n",
    "        if len(intersection) == 0:\n",
    "            each_R1_class_intersects_every_R2_class = False\n",
    "            \n",
    "each_R2_class_intersects_every_R1_class = True\n",
    "for block2 in p_2:\n",
    "    for block1 in p_1:\n",
    "        intersection = fom.calculate_intersection(block1, block2)\n",
    "        if len(intersection) == 0:\n",
    "            each_R2_class_intersects_every_R1_class = False\n",
    "            \n",
    "intersection_er = fom.calculate_er_intersection(er_1, er_2)\n",
    "intersection_p = fom.find_partition_from_equivalence_relation(intersection_er)\n",
    "R1_intersection_R2_is_equality_relation = (len(intersection_p) == len(S))\n",
    "\n",
    "union_er = fom.calculate_er_union(er_1, er_2)\n",
    "union_p = fom.find_partition_from_equivalence_relation(union_er)\n",
    "R1_union_R2_is_trivial_relation = (len(union_p) == 1)\n",
    "            \n",
    "print('{} {}'.format(each_R1_class_intersects_every_R2_class, each_R2_class_intersects_every_R1_class))\n",
    "print(R1_intersection_R2_is_equality_relation)\n",
    "print(R1_union_R2_is_trivial_relation)"
   ]
  },
  {
   "cell_type": "markdown",
   "metadata": {},
   "source": [
    "#### Remark"
   ]
  },
  {
   "cell_type": "markdown",
   "metadata": {},
   "source": [
    "Show an R1-class. Can see it is formed by picking exactly one element out of each R2-class. Show an R2-class. It is formed by picking exactly one element out of each R1-class."
   ]
  },
  {
   "cell_type": "code",
   "execution_count": 47,
   "metadata": {
    "collapsed": false
   },
   "outputs": [
    {
     "name": "stdout",
     "output_type": "stream",
     "text": [
      "[('a', 'w'), ('a', 'x')]\n",
      "[('a', 'w'), ('b', 'w'), ('c', 'w')]\n"
     ]
    }
   ],
   "source": [
    "print(p_1[0])\n",
    "print(p_2[0])"
   ]
  },
  {
   "cell_type": "markdown",
   "metadata": {},
   "source": [
    "Show that one R1-class is isomorphic to another, and to S2.\n",
    "\n",
    "Here and elsewhere, 'A is isomorphic to B' means that we can construct a bijective mapping, q: A -> B (one to one and onto). Moreover, how we construct this mapping is usually obvious from the context, i.e., it is clear which a in A is to be associated with a particular b in B. Note that 'A is isomorphic to B' does NOT mean that 'A is the same as B'."
   ]
  },
  {
   "cell_type": "code",
   "execution_count": 17,
   "metadata": {
    "collapsed": false
   },
   "outputs": [
    {
     "name": "stdout",
     "output_type": "stream",
     "text": [
      "[('a', 'w'), ('a', 'x')]\n",
      "[('b', 'w'), ('b', 'x')]\n",
      "['w', 'x']\n"
     ]
    }
   ],
   "source": [
    "print(p_1[0])\n",
    "print(p_1[1])\n",
    "print(S2)"
   ]
  },
  {
   "cell_type": "markdown",
   "metadata": {},
   "source": [
    "Above, the isomorphism between p_1[0] and p_1[1] would be: send p_1[0][i] to p_1[1][j] if they both have 'w'. \n",
    "\n",
    "The isomorphism between p_1[0] and S2 would be: send p_1[0][i] to S2[k] if S2[k] is in p_1[0][i]."
   ]
  },
  {
   "cell_type": "markdown",
   "metadata": {},
   "source": [
    "##### Uncertainty here..."
   ]
  },
  {
   "cell_type": "markdown",
   "metadata": {},
   "source": [
    "Make the inverse relation of pi_1, p_1_inverse, using procedure from 'fom'. Print out pi_1_inverse of 'a' from S1. This seems like what is meant by a \"copy\" of S2 (printed as last row). Same would be true for 'b', 'c', and 'd' in S1. If you made pi_2_inverse and found pi_2_inverse of 'w', this would seem to be a \"copy\" of S1 in the same sense."
   ]
  },
  {
   "cell_type": "code",
   "execution_count": 9,
   "metadata": {
    "collapsed": false
   },
   "outputs": [
    {
     "name": "stdout",
     "output_type": "stream",
     "text": [
      "('a', 'w')\n",
      "('a', 'x')\n",
      "['w', 'x']\n"
     ]
    }
   ],
   "source": [
    "pi_1_inverse = fom.make_inverse_relation(pi_1)\n",
    "\n",
    "for p, q in pi_1_inverse:\n",
    "    if p == 'a':\n",
    "        print(q)\n",
    "print(S2)    "
   ]
  },
  {
   "cell_type": "markdown",
   "metadata": {},
   "source": [
    "#### Lemma 1.2.2"
   ]
  },
  {
   "cell_type": "markdown",
   "metadata": {},
   "source": [
    "Define a set S. We can make use of 'fom' procedure express_as_cartesian_product, which gives us 2 equivalence relations with the desired properties.\n",
    "\n",
    "Note that if you have a prime number of elements in the set S (e.g., 2, 3, 5, 7, ...), then ER1 and ER2 will have to be the trivial relation and the equality relation."
   ]
  },
  {
   "cell_type": "code",
   "execution_count": 12,
   "metadata": {
    "collapsed": false
   },
   "outputs": [
    {
     "name": "stdout",
     "output_type": "stream",
     "text": [
      "[['a', 'b', 'd', 'e', 'g', 'i'], ['c', 'f', 'h', 'j', 'k', 'l']]\n",
      "\n",
      "[['a', 'j'], ['b', 'l'], ['c', 'e'], ['d', 'k'], ['f', 'i'], ['g', 'h']]\n",
      "\n"
     ]
    },
    {
     "data": {
      "text/plain": [
       "True"
      ]
     },
     "execution_count": 12,
     "metadata": {},
     "output_type": "execute_result"
    }
   ],
   "source": [
    "S = ['a', 'b', 'c', 'd', 'e', 'f', 'g', 'h', 'i', 'j', 'k', 'l']\n",
    "ER1, ER2 = fom.express_as_cartesian_product(S)\n",
    "\n",
    "P1 = fom.find_partition_from_equivalence_relation(ER1)\n",
    "P2 = fom.find_partition_from_equivalence_relation(ER2)\n",
    "    \n",
    "print(P1)\n",
    "print()\n",
    "print(P2)\n",
    "print()\n",
    "fom.check_if_S_is_cartesian_product(S, ER1, ER2)"
   ]
  },
  {
   "cell_type": "markdown",
   "metadata": {},
   "source": [
    "Now, by construction, ER1 and ER2 above are equivalence relations that allow S to be expressed as a cartesian product.\n",
    "\n",
    "Define the map phi: S/(ER1 int ER2) -> S/ER1 x S/ER2. Remember, we show quotient sets (e.g., S/ER1) as partitions (a set of sets, each containing members that are equivalent to each other).\n",
    "\n",
    "Can see this map is one-to-one: a given block in S/(ER1 int ER2) goes to only one combination of blocks in S/ER1 x S/ER2. \n",
    "\n",
    "Can also see this map is onto: there is no combination of blocks in S/ER1 x S/ER2 that is not the image of some block in S/(ER1 int ER2). The condition that each R1-class intersects every R2-class, and vice versa, is what guarantee this map is onto. Without this condition, this map is NOT generally onto. \n",
    "\n",
    "Note also that for each pair (a, b) of the mapping, the intersection of the blocks of b is a.\n",
    "\n",
    "Can see from last 2 lines that S is isomorphic to S/(ER1 int ER2), i.e., there is an obvious, bijective mapping between S and S/(ER1 int ER2)."
   ]
  },
  {
   "cell_type": "code",
   "execution_count": 18,
   "metadata": {
    "collapsed": false
   },
   "outputs": [
    {
     "name": "stdout",
     "output_type": "stream",
     "text": [
      "(['a'], (['a', 'b', 'd', 'e', 'g', 'i'], ['a', 'j']))\n",
      "(['b'], (['a', 'b', 'd', 'e', 'g', 'i'], ['b', 'l']))\n",
      "(['e'], (['a', 'b', 'd', 'e', 'g', 'i'], ['c', 'e']))\n",
      "(['d'], (['a', 'b', 'd', 'e', 'g', 'i'], ['d', 'k']))\n",
      "(['i'], (['a', 'b', 'd', 'e', 'g', 'i'], ['f', 'i']))\n",
      "(['g'], (['a', 'b', 'd', 'e', 'g', 'i'], ['g', 'h']))\n",
      "(['j'], (['c', 'f', 'h', 'j', 'k', 'l'], ['a', 'j']))\n",
      "(['l'], (['c', 'f', 'h', 'j', 'k', 'l'], ['b', 'l']))\n",
      "(['c'], (['c', 'f', 'h', 'j', 'k', 'l'], ['c', 'e']))\n",
      "(['k'], (['c', 'f', 'h', 'j', 'k', 'l'], ['d', 'k']))\n",
      "(['f'], (['c', 'f', 'h', 'j', 'k', 'l'], ['f', 'i']))\n",
      "(['h'], (['c', 'f', 'h', 'j', 'k', 'l'], ['g', 'h']))\n",
      "\n",
      "[['a', 'b', 'd', 'e', 'g', 'i'], ['c', 'f', 'h', 'j', 'k', 'l']]\n",
      "[['a', 'j'], ['b', 'l'], ['c', 'e'], ['d', 'k'], ['f', 'i'], ['g', 'h']]\n",
      "\n",
      "['a', 'b', 'c', 'd', 'e', 'f', 'g', 'h', 'i', 'j', 'k', 'l']\n",
      "[['a'], ['b'], ['c'], ['d'], ['e'], ['f'], ['g'], ['h'], ['i'], ['j'], ['k'], ['l']]\n"
     ]
    }
   ],
   "source": [
    "ER_int = fom.calculate_er_intersection(ER1, ER2)\n",
    "P_int = fom.find_partition_from_equivalence_relation(ER_int)\n",
    "CP = fom.make_cartesian_product(P1, P2)\n",
    "phi = []\n",
    "for b1, b2 in CP:\n",
    "    b = fom.calculate_intersection(b1, b2)\n",
    "    if b != []:\n",
    "        phi.append((b, (b1, b2)))\n",
    "    else:\n",
    "        print('nothing maps to {}'.format((b1, b2)))\n",
    "for i in phi:\n",
    "    print(i)\n",
    "print()\n",
    "print(P1)\n",
    "print(P2)\n",
    "print()\n",
    "print(S)\n",
    "print(P_int)"
   ]
  },
  {
   "cell_type": "markdown",
   "metadata": {},
   "source": [
    "Now repeat the above for arbitrary equivalence relations (not likely to allow S to be expressed as a cartesian product).\n",
    "\n",
    "Can see that the mapping phi in this case will always be one to one and into (there is one image for each element of S/(ER4 int ER5), and this image is in S/ER4 x S/ER5, as stated in the proof), however it will not generally be onto S/ER4 x S/ER5 (we print the elements of S/ER4 x S/ER5 that are not the images of something in S/(ER4 int ER5)).\n",
    "\n",
    "S is not generally isomorphic to S/(ER4 int ER5), as seen from the last 2 lines."
   ]
  },
  {
   "cell_type": "code",
   "execution_count": 19,
   "metadata": {
    "collapsed": false
   },
   "outputs": [
    {
     "name": "stdout",
     "output_type": "stream",
     "text": [
      "nothing maps to (['a'], ['c', 'k'])\n",
      "nothing maps to (['a'], ['d', 'e', 'i'])\n",
      "nothing maps to (['a'], ['f', 'g', 'h', 'l'])\n",
      "nothing maps to (['b'], ['c', 'k'])\n",
      "nothing maps to (['b'], ['d', 'e', 'i'])\n",
      "nothing maps to (['b'], ['f', 'g', 'h', 'l'])\n",
      "nothing maps to (['c', 'e'], ['a', 'b', 'j'])\n",
      "nothing maps to (['c', 'e'], ['f', 'g', 'h', 'l'])\n",
      "nothing maps to (['d'], ['a', 'b', 'j'])\n",
      "nothing maps to (['d'], ['c', 'k'])\n",
      "nothing maps to (['d'], ['f', 'g', 'h', 'l'])\n",
      "nothing maps to (['f', 'l'], ['a', 'b', 'j'])\n",
      "nothing maps to (['f', 'l'], ['c', 'k'])\n",
      "nothing maps to (['f', 'l'], ['d', 'e', 'i'])\n",
      "nothing maps to (['g'], ['a', 'b', 'j'])\n",
      "nothing maps to (['g'], ['c', 'k'])\n",
      "nothing maps to (['g'], ['d', 'e', 'i'])\n",
      "nothing maps to (['h'], ['a', 'b', 'j'])\n",
      "nothing maps to (['h'], ['c', 'k'])\n",
      "nothing maps to (['h'], ['d', 'e', 'i'])\n",
      "nothing maps to (['i'], ['a', 'b', 'j'])\n",
      "nothing maps to (['i'], ['c', 'k'])\n",
      "nothing maps to (['i'], ['f', 'g', 'h', 'l'])\n",
      "nothing maps to (['j', 'k'], ['d', 'e', 'i'])\n",
      "nothing maps to (['j', 'k'], ['f', 'g', 'h', 'l'])\n",
      "(['a'], (['a'], ['a', 'b', 'j']))\n",
      "(['b'], (['b'], ['a', 'b', 'j']))\n",
      "(['c'], (['c', 'e'], ['c', 'k']))\n",
      "(['e'], (['c', 'e'], ['d', 'e', 'i']))\n",
      "(['d'], (['d'], ['d', 'e', 'i']))\n",
      "(['f', 'l'], (['f', 'l'], ['f', 'g', 'h', 'l']))\n",
      "(['g'], (['g'], ['f', 'g', 'h', 'l']))\n",
      "(['h'], (['h'], ['f', 'g', 'h', 'l']))\n",
      "(['i'], (['i'], ['d', 'e', 'i']))\n",
      "(['j'], (['j', 'k'], ['a', 'b', 'j']))\n",
      "(['k'], (['j', 'k'], ['c', 'k']))\n",
      "\n",
      "[['a'], ['b'], ['c', 'e'], ['d'], ['f', 'l'], ['g'], ['h'], ['i'], ['j', 'k']]\n",
      "[['a', 'b', 'j'], ['c', 'k'], ['d', 'e', 'i'], ['f', 'g', 'h', 'l']]\n",
      "\n",
      "['a', 'b', 'c', 'd', 'e', 'f', 'g', 'h', 'i', 'j', 'k', 'l']\n",
      "[['a'], ['b'], ['c'], ['d'], ['e'], ['f', 'l'], ['g'], ['h'], ['i'], ['j'], ['k']]\n"
     ]
    }
   ],
   "source": [
    "ER4 = fom.make_random_equivalence_relation(S)\n",
    "ER5 = fom.make_random_equivalence_relation(S)\n",
    "P4 = fom.find_partition_from_equivalence_relation(ER4)\n",
    "P5 = fom.find_partition_from_equivalence_relation(ER5)\n",
    "ER45_int = fom.calculate_er_intersection(ER4, ER5)\n",
    "P45_int = fom.find_partition_from_equivalence_relation(ER45_int)\n",
    "CP45 = fom.make_cartesian_product(P4, P5)\n",
    "phi45 = []\n",
    "for b1, b2 in CP45:\n",
    "    b = fom.calculate_intersection(b1, b2)\n",
    "    if b != []:\n",
    "        phi45.append((b, (b1, b2)))\n",
    "    else:\n",
    "        print('nothing maps to {}'.format((b1, b2)))\n",
    "for i in phi45:\n",
    "    print(i)\n",
    "print()\n",
    "print(P4)\n",
    "print(P5)\n",
    "print()\n",
    "print(S)\n",
    "print(P45_int)"
   ]
  },
  {
   "cell_type": "markdown",
   "metadata": {},
   "source": [
    "#### Corollary 1.2.1"
   ]
  },
  {
   "cell_type": "markdown",
   "metadata": {},
   "source": [
    "ERRATUM: in the corollary, isomorphic is spelled incorrectly as \"isomorphich\".\n",
    "\n",
    "Let us define 2 new relations, R10 and R11, such that each R1-class intersects every R2-class, and vice-versa. \n",
    "\n",
    "Use R10 to find the underlying set, S."
   ]
  },
  {
   "cell_type": "code",
   "execution_count": 24,
   "metadata": {
    "collapsed": false
   },
   "outputs": [
    {
     "name": "stdout",
     "output_type": "stream",
     "text": [
      "['a', 'b', 'c', 'd', 'e', 'f', 'g', 'h']\n"
     ]
    }
   ],
   "source": [
    "P10 = [['a', 'b', 'c', 'd'], ['e', 'f', 'g', 'h']]\n",
    "P11 = [['a', 'b', 'e', 'f'], ['c', 'd', 'g', 'h']]\n",
    "R10 = fom.find_equivalence_relation_from_partition(P10)\n",
    "R11 = fom.find_equivalence_relation_from_partition(P11)\n",
    "S = fom.get_underlying_elements_from_relation(R10)\n",
    "print(S)"
   ]
  },
  {
   "cell_type": "markdown",
   "metadata": {},
   "source": [
    "Now make the intersection S/(R10 int R11) and the cartesian product S/R10 x S/R11. \n",
    "\n",
    "Note that, in this case, S/(R10 int R11) is not isomorphic to S."
   ]
  },
  {
   "cell_type": "code",
   "execution_count": 27,
   "metadata": {
    "collapsed": false
   },
   "outputs": [
    {
     "name": "stdout",
     "output_type": "stream",
     "text": [
      "[['a', 'b'], ['c', 'd'], ['e', 'f'], ['g', 'h']]\n",
      "\n",
      "[(['a', 'b', 'c', 'd'], ['a', 'b', 'e', 'f']), (['a', 'b', 'c', 'd'], ['c', 'd', 'g', 'h']), (['e', 'f', 'g', 'h'], ['a', 'b', 'e', 'f']), (['e', 'f', 'g', 'h'], ['c', 'd', 'g', 'h'])]\n"
     ]
    }
   ],
   "source": [
    "R10_int_R11 = fom.calculate_er_intersection(R10, R11)\n",
    "S_R10_int_R11 = fom.find_partition_from_equivalence_relation(R10_int_R11)\n",
    "print(S_R10_int_R11)\n",
    "print()\n",
    "S_R10_cross_S_R11 = fom.make_cartesian_product(P10, P11)\n",
    "print(S_R10_cross_S_R11)"
   ]
  },
  {
   "cell_type": "markdown",
   "metadata": {},
   "source": [
    "Now we could proceed to make an isomophism, phi, between the above as follows: associate with S_R10_int_R11[i] the element S_R10_cross_S_R11[j] such that the intersection of a and b in S_R10_cross_S_R11[j] gives S_R10_int_R11[i]. We won't do that because it's easy enough to look at the two sets above and see that such bijective mapping exists.\n",
    "\n",
    "Conversely, we could start with an isomorphism phi: S_R20_int_R21 -> S_R20_cross_S_R21. Then we would discover that each R20-class intersects every R21-class, and vice versa.\n",
    "\n",
    "See second remark on page 10: \"we have put Y = S/(R1 int R2)\"."
   ]
  },
  {
   "cell_type": "markdown",
   "metadata": {},
   "source": [
    "#### Remark"
   ]
  },
  {
   "cell_type": "markdown",
   "metadata": {},
   "source": [
    "The corollary above provides a cartesian product representation of a quotient set of S, not of S itself (recall that S = ['a', 'b', 'c', 'd', 'e', 'f', 'g', 'h']). \n",
    "\n",
    "Instead, we have found that [['a', 'b'], ['c', 'd'], ['e', 'f'], ['g', 'h']] = [['a', 'b', 'c', 'd'], ['e', 'f', 'g', 'h']] x [['a', 'b', 'e', 'f'], ['c', 'd', 'g', 'h']]."
   ]
  },
  {
   "cell_type": "markdown",
   "metadata": {},
   "source": [
    "##### Uncertainty here..."
   ]
  },
  {
   "cell_type": "markdown",
   "metadata": {},
   "source": [
    "Not clear what \"complementary\" equivalence relations are, and thus what embedding of S into a cartesian product means. Complementary might mean that each R1-class intersects every R2-class, and vice versa. This seems like what Rosen means based on the sentence spanning page 10 to page 11.\n",
    "\n",
    "Phi being \"only onto\" must mean that it is not one-to-one. Thus, the situation here is that phi: S/(R1 int R2) -> S/R1 x S/R2 must 'cover' the entire set S/R1 x S/R2, but there must also be at least 2 distinct values in S/(R1 int R2) that are associated to the same value in S/R1 x S/R2.\n",
    "\n",
    "Could it be that in above example, phi is not one-to-one when considered as a mapping from S to S/R1 x S/R2? In other words:\n",
    "\n",
    "phi:\n",
    "'a' ==> ['a', 'b', 'c', 'd'], ['a', 'b', 'e', 'f']\n",
    "'b' ==> ['a', 'b', 'c', 'd'], ['a', 'b', 'e', 'f']\n",
    "'c' ==> ['a', 'b', 'c', 'd'], ['c', 'd', 'g', 'h']\n",
    "'d' ==> ['a', 'b', 'c', 'd'], ['c', 'd', 'g', 'h']\n",
    "'e' ==> ['e', 'f', 'g', 'h'], ['a', 'b', 'e', 'f']\n",
    "'f' ==> ['e', 'f', 'g', 'h'], ['a', 'b', 'e', 'f']\n",
    "'g' ==> ['e', 'f', 'g', 'h'], ['c', 'd', 'g', 'h']\n",
    "'h' ==> ['e', 'f', 'g', 'h'], ['c', 'd', 'g', 'h']\n",
    "\n",
    "If phi is defined like this, it is onto, but not one-to-one. We also know that we have not created a representation of S as a cartesian product with R1 and R2 defined like this. This may be what is meant by 'an embedding of S into a cartesian product'."
   ]
  },
  {
   "cell_type": "markdown",
   "metadata": {},
   "source": [
    "#### Remark"
   ]
  },
  {
   "cell_type": "markdown",
   "metadata": {},
   "source": [
    "Phi in Corollary 1.2.1 is the same as phi in diagram 1.2.1.\n",
    "\n",
    "This is done by setting Y = S/(R1 int R2). In the above example,\n",
    "\n",
    "Y = [['a', 'b'], ['c', 'd'], ['e', 'f'], ['g', 'h']]\n",
    "\n",
    "The mapping f would be:\n",
    "\n",
    "(['a', 'b'], ['a', 'b', 'c', 'd']),\n",
    "(['c', 'd'], ['a', 'b', 'c', 'd']),\n",
    "(['e', 'f'], ['e', 'f', 'g', 'h']),\n",
    "(['g', 'h'], ['e', 'f', 'g', 'h'])\n",
    "\n",
    "Similarly for g."
   ]
  },
  {
   "cell_type": "markdown",
   "metadata": {},
   "source": [
    "#### Remark"
   ]
  },
  {
   "cell_type": "markdown",
   "metadata": {},
   "source": [
    "Any equivalence relation on a set S can be regarded as providing \"half\" of a cartesian product representation of the quotient set of S, with respect to another relation which refines it.\n",
    "\n",
    "So, make an equivalence relation on a set S, then make another relation which refines it."
   ]
  },
  {
   "cell_type": "code",
   "execution_count": 35,
   "metadata": {
    "collapsed": false
   },
   "outputs": [
    {
     "name": "stdout",
     "output_type": "stream",
     "text": [
      "[['a', 'h'], ['b'], ['c', 'd'], ['e', 'f', 'g']]\n",
      "[['a', 'h'], ['b'], ['c', 'd'], ['e'], ['f', 'g']]\n"
     ]
    }
   ],
   "source": [
    "R = fom.make_random_equivalence_relation(S)\n",
    "Rr = fom.make_refinement(R)\n",
    "print(fom.get_quotient_set(R))\n",
    "print(fom.get_quotient_set(Rr))"
   ]
  },
  {
   "cell_type": "markdown",
   "metadata": {},
   "source": [
    "Now we use a procedure in fom to find a relation Rb, which is the other \"half\" for the cartesian product representation of the quotient set Rr. Once we have R and Rb, can demonstrate that S/(R int Rb) is Rr.\n",
    "\n",
    "Note that there generally exist many equivalence relations which could serve as the \"other half\", so we just make one at random that meets the conditions."
   ]
  },
  {
   "cell_type": "code",
   "execution_count": 38,
   "metadata": {
    "collapsed": false
   },
   "outputs": [
    {
     "name": "stdout",
     "output_type": "stream",
     "text": [
      "[['a', 'h'], ['b'], ['c', 'd'], ['e', 'f', 'g']]  X  [['a', 'e', 'h'], ['b'], ['c', 'd', 'f', 'g']] =\n",
      "[['a', 'h'], ['b'], ['c', 'd'], ['e'], ['f', 'g']]\n"
     ]
    }
   ],
   "source": [
    "Rb = fom.make_random_corresponding_factor(Rr, R)\n",
    "print('{}  X  {} ='.format(fom.get_quotient_set(R), fom.get_quotient_set(Rb)))\n",
    "R_int = fom.calculate_er_intersection(R, Rb)\n",
    "print(fom.get_quotient_set(R_int))"
   ]
  },
  {
   "cell_type": "markdown",
   "metadata": {},
   "source": [
    "The lifting property is related to phi in the diagram of the universal property of the cartesian product.\n",
    "\n",
    "As noted, the lemmas of this section provide a set of necessary condtions on an equivalence relation R so that a complementary relation may be found to complete that universal diagram. This gets implemented in the fom procedure make_random_corresponding_factor. See the comments in this function in the fom module to see how this is done."
   ]
  },
  {
   "cell_type": "markdown",
   "metadata": {},
   "source": [
    "#### Remark"
   ]
  },
  {
   "cell_type": "markdown",
   "metadata": {},
   "source": [
    "We can use a procedure in fom to make a group of factors, which when combined, give a target equivalence relation. This group of factors is not unique; we can demonstrate this by running same code twice."
   ]
  },
  {
   "cell_type": "code",
   "execution_count": 41,
   "metadata": {
    "collapsed": false
   },
   "outputs": [
    {
     "name": "stdout",
     "output_type": "stream",
     "text": [
      "[['a', 'b', 'e', 'f', 'g', 'h'], ['c', 'd']]\n",
      "[['a', 'b', 'h'], ['c', 'd'], ['e', 'f', 'g']]\n",
      "[['a', 'c', 'd', 'h'], ['b'], ['e', 'f', 'g']]\n",
      "\n",
      "[['a', 'h'], ['b'], ['c', 'd'], ['e', 'f', 'g']]\n",
      "[['a', 'h'], ['b'], ['c', 'd'], ['e', 'f', 'g']]\n"
     ]
    }
   ],
   "source": [
    "collection = fom.make_collection_of_factors(R)\n",
    "for Rf in collection:\n",
    "    print(fom.get_quotient_set(Rf))\n",
    "print()\n",
    "print(fom.get_quotient_set(R))\n",
    "print(fom.get_quotient_set(fom.calculate_intersection_of_set_of_er(collection)))"
   ]
  },
  {
   "cell_type": "code",
   "execution_count": 42,
   "metadata": {
    "collapsed": false
   },
   "outputs": [
    {
     "name": "stdout",
     "output_type": "stream",
     "text": [
      "[['a', 'b', 'c', 'd', 'e', 'f', 'g', 'h']]\n",
      "[['a', 'e', 'f', 'g', 'h'], ['b', 'c', 'd']]\n",
      "[['a', 'h'], ['b', 'e', 'f', 'g'], ['c', 'd']]\n",
      "\n",
      "[['a', 'h'], ['b'], ['c', 'd'], ['e', 'f', 'g']]\n",
      "[['a', 'h'], ['b'], ['c', 'd'], ['e', 'f', 'g']]\n"
     ]
    }
   ],
   "source": [
    "collection = fom.make_collection_of_factors(R)\n",
    "for Rf in collection:\n",
    "    print(fom.get_quotient_set(Rf))\n",
    "print()\n",
    "print(fom.get_quotient_set(R))\n",
    "print(fom.get_quotient_set(fom.calculate_intersection_of_set_of_er(collection)))"
   ]
  },
  {
   "cell_type": "code",
   "execution_count": null,
   "metadata": {
    "collapsed": false
   },
   "outputs": [],
   "source": []
  }
 ],
 "metadata": {
  "kernelspec": {
   "display_name": "Python 2",
   "language": "python",
   "name": "python2"
  },
  "language_info": {
   "codemirror_mode": {
    "name": "ipython",
    "version": 2
   },
   "file_extension": ".py",
   "mimetype": "text/x-python",
   "name": "python",
   "nbconvert_exporter": "python",
   "pygments_lexer": "ipython2",
   "version": "2.7.11"
  }
 },
 "nbformat": 4,
 "nbformat_minor": 0
}

{
 "metadata": {
  "name": "",
  "signature": "sha256:bd714ec9ecd1b2afdf5f1d04b1225736fd3fa4bf40eccaa2bcf9d2ae897b5a14"
 },
 "nbformat": 3,
 "nbformat_minor": 0,
 "worksheets": [
  {
   "cells": [
    {
     "cell_type": "code",
     "collapsed": false,
     "input": [
      "%load_ext autoreload\n",
      "%autoreload 1\n",
      "%aimport fom\n",
      "import random"
     ],
     "language": "python",
     "metadata": {},
     "outputs": [],
     "prompt_number": 1
    },
    {
     "cell_type": "heading",
     "level": 3,
     "metadata": {},
     "source": [
      "1.3 Equivalence Relations and Automorphisms"
     ]
    },
    {
     "cell_type": "heading",
     "level": 4,
     "metadata": {},
     "source": [
      "Definition 1.3.1"
     ]
    },
    {
     "cell_type": "markdown",
     "metadata": {},
     "source": [
      "An automorphism T is compatible with an equivalence relation R if, when 2 elements are related via R, this implies that their images under the automorphism are also related via R. Stated more informally, for an automorphism to be compatible with a relation, it must 'respect' the groupings established by the relation, i.e., the R-classes. This can happen in multiple ways.\n",
      "\n",
      "First, the automorphism could transform elements to other elements in the same R-class. In this case, the automorphism only shuffles elements around within the R-classes; no element goes to a new R-class. Thus elements that are R-related are still R-related after being acted upon by the automorphism. This means that all the cyclic automorphisms of the subgroup corresponding to R (see Example 1.1.2 in Section 1.1) are compatible with R.\n",
      "\n",
      "In the example below, we make a set with 10 elements, pick a random equivalence relation R, find the cyclic subgroup corresponding to this relation, then we randomly choose an automorphism T from this subgroup. Finally, we print T, and check its compatibility with R (also check compatibility of inverse of T, Tinv, with R). We print R and T, so one can verify that T is not moving any element out of its original R-class.\n",
      "\n",
      "Note: we will find later in this section that, for any equivalence relation R, if S/R is finite and T is compatible with R, then so is the inverse of T (see corollary 1.3.1). Because many of the examples below involve finite sets, this is often true."
     ]
    },
    {
     "cell_type": "code",
     "collapsed": false,
     "input": [
      "S = list(range(10))\n",
      "R = fom.make_random_equivalence_relation(S)\n",
      "G = fom.find_cyclic_subgroup_from_equivalence_relation(R)\n",
      "T = random.choice(G)\n",
      "Tinv = fom.make_inverse_relation(T)\n",
      "print(fom.get_quotient_set(R))\n",
      "print(T)\n",
      "print(fom.check_compatible(T, R))\n",
      "print(fom.check_compatible(Tinv, R))"
     ],
     "language": "python",
     "metadata": {},
     "outputs": [
      {
       "output_type": "stream",
       "stream": "stdout",
       "text": [
        "[[0, 7, 8], [1, 2, 3, 4, 5, 6, 9]]\n",
        "[(0, 0), (1, 6), (2, 9), (3, 1), (4, 2), (5, 3), (6, 4), (7, 7), (8, 8), (9, 5)]\n",
        "True\n",
        "True\n"
       ]
      }
     ],
     "prompt_number": 2
    },
    {
     "cell_type": "markdown",
     "metadata": {},
     "source": [
      "Second, we can find compatible automorphisms that DO move elements to new equivalence classes. This is OK, as long as if one element in an R-class is transformed to a new class, all the elements in the original class go to that same new class.\n",
      "\n",
      "For finite sets, the \"source class\" and the \"image class\" must have the same number of elements (otherwise T is not one-to-one, and thus is not an automorphism).\n",
      "\n",
      "From the perspective of Lemma 1.3.3 (discussed below), the first way (discussed above) is really a special case of the second way (discussed here), i.e., the first way is when the \"source class\" and the \"image class\" are the same.\n",
      "\n",
      "Below, make a random automorphism T that is compatible with R. Check its compatibility. Print T and R to show that elements can get mapped to new partitions (something beyond a random automorphism from the subgroup that corresponds to R)."
     ]
    },
    {
     "cell_type": "code",
     "collapsed": false,
     "input": [
      "S = list(range(10))\n",
      "R = fom.make_random_equivalence_relation(S)\n",
      "T = fom.make_random_compatible_automorphism(R)\n",
      "print(fom.get_quotient_set(R))\n",
      "print(T)\n",
      "print(fom.check_compatible(T, R))"
     ],
     "language": "python",
     "metadata": {},
     "outputs": [
      {
       "output_type": "stream",
       "stream": "stdout",
       "text": [
        "[[0], [1, 7], [2, 3], [4, 5], [6, 8], [9]]\n",
        "[(0, 0), (1, 6), (2, 1), (3, 7), (4, 2), (5, 3), (6, 4), (7, 8), (8, 5), (9, 9)]\n",
        "True\n"
       ]
      }
     ],
     "prompt_number": 5
    },
    {
     "cell_type": "markdown",
     "metadata": {},
     "source": [
      "Now consider an automorphism maps 2 elements, e1 and e2, that start in the same partition to different partitions. In this case, the grouping [e1, e2] gets split up by the automorphism (e1 and e2 end up in different blocks of the partition). Such an automorphism would not be compatible with R.\n",
      "\n",
      "Below, we create an equivalence relation and an automorphism that illustrate this and check to make sure they are not compatible."
     ]
    },
    {
     "cell_type": "code",
     "collapsed": false,
     "input": [
      "P = [[0], [1], [2, 8], [3, 4, 9], [5, 6, 7]]\n",
      "R = fom.find_equivalence_relation_from_partition(P)\n",
      "T = [(0, 0), (1, 1), (2, 2), (3, 5), (4, 4), (5, 3), (6, 6), (7, 7), (8, 8), (9, 9)]\n",
      "print(fom.check_compatible(T, R))"
     ],
     "language": "python",
     "metadata": {},
     "outputs": [
      {
       "output_type": "stream",
       "stream": "stdout",
       "text": [
        "False\n"
       ]
      }
     ],
     "prompt_number": 6
    },
    {
     "cell_type": "heading",
     "level": 4,
     "metadata": {},
     "source": [
      "Definition 1.3.2"
     ]
    },
    {
     "cell_type": "heading",
     "level": 5,
     "metadata": {},
     "source": [
      "Example 1"
     ]
    },
    {
     "cell_type": "markdown",
     "metadata": {},
     "source": [
      "Make the T-transform of R, Rt. As noted above, and discussed in corollary 1.3.1, if S/R is finite and T is compatible with R, then so is its inverse. By Lemma 1.3.2, this means Rt = R in this example (for finite sets, the equivalence relations all produce equivalence classes that are finite in number)."
     ]
    },
    {
     "cell_type": "code",
     "collapsed": false,
     "input": [
      "S = list(range(10))\n",
      "R = fom.make_random_equivalence_relation(S)\n",
      "T = fom.make_random_compatible_automorphism(R)\n",
      "Rt = fom.make_t_transform(T, R)\n",
      "print(T)\n",
      "print(fom.get_quotient_set(Rt))\n",
      "print(fom.get_quotient_set(R))"
     ],
     "language": "python",
     "metadata": {},
     "outputs": [
      {
       "output_type": "stream",
       "stream": "stdout",
       "text": [
        "[(0, 6), (1, 7), (2, 2), (3, 3), (4, 4), (5, 5), (6, 0), (7, 9), (8, 8), (9, 1)]\n",
        "[[0, 6], [1, 3, 7, 9], [2, 5, 8], [4]]\n",
        "[[0, 6], [1, 3, 7, 9], [2, 5, 8], [4]]\n"
       ]
      }
     ],
     "prompt_number": 7
    },
    {
     "cell_type": "heading",
     "level": 5,
     "metadata": {},
     "source": [
      "Example 2"
     ]
    },
    {
     "cell_type": "markdown",
     "metadata": {},
     "source": [
      "Let us construct an example where R and Rt are not equal.\n",
      "\n",
      "Let S = the integers. Let R correspond to the partition\n",
      "\n",
      "[..., [-6, -5], [-4, -3], [-2, -1], [0, 1, 2, 3, ... ]]\n",
      "\n",
      "Notice that in this case, S/R is an infinite set.\n",
      "\n",
      "Let T be \"add +2\". Thus T(-4) = -2, T(-3) = -1, T(-2) = 0, T(-1) = 1, T(0) = 2, T(1) = 3, etc.\n",
      "\n",
      "T is compatible with R, since -4 R -3 implies T(-4) R T(-3), and indeed this is true, i.e., -2 is R-related -1. Similarly for any other s1 R s2. Try working a few out to convince yourself.\n",
      "\n",
      "What is Rt? Rt corresponds to the partition\n",
      "\n",
      "[..., [-6, -5], [-4, -3], [-2, -1, 0, 1, ... ]]\n",
      "\n",
      "With the above R, T, and Rt, one can see that s1 Rt s2 if and only if Ts1 R Ts2. Let's check a case where s1, s2 are NOT R-related, but they ARE Rt-related. How about -1 and 0? These numbers are not R-related (see the partition above). The definition states that -1 Rt 0 if and only if T(-1) R T(0). Well, T(-1) = 1 and T(0) = 2. 1 and 2 are indeed R-related, so -1 Rt 0 as shown. One can try this for other pairs, too, like -2 and 1, or -4 and -3."
     ]
    },
    {
     "cell_type": "heading",
     "level": 4,
     "metadata": {},
     "source": [
      "Lemma 1.3.1"
     ]
    },
    {
     "cell_type": "markdown",
     "metadata": {},
     "source": [
      "In EXAMPLE 1, R = Rt means that R is a refinement of Rt and Rt is a refinement of R (see 2 in the Remark after Lemma 1.1.6, pg. 5 FOM). Can also check compatibility of T with R:"
     ]
    },
    {
     "cell_type": "code",
     "collapsed": false,
     "input": [
      "print(fom.check_compatible(T, R))"
     ],
     "language": "python",
     "metadata": {},
     "outputs": [
      {
       "output_type": "stream",
       "stream": "stdout",
       "text": [
        "True\n"
       ]
      }
     ],
     "prompt_number": 9
    },
    {
     "cell_type": "markdown",
     "metadata": {},
     "source": [
      "In EXAMPLE 2, inspection of the partitions shows that R is indeed a refinement of Rt (i.e., the equivalence class [-2, -1, 0, 1, ...] in Rt, gets split into [-2, -1] and [0, 1, 2, ...] in R)."
     ]
    },
    {
     "cell_type": "heading",
     "level": 4,
     "metadata": {},
     "source": [
      "Lemma 1.3.2"
     ]
    },
    {
     "cell_type": "markdown",
     "metadata": {},
     "source": [
      "EXAMPLE 2 above shows a situation where Rt is not equal to R. We know that T is compatible with R. Let us verify that Tinv is not compatible with R.\n",
      "\n",
      "Since T is \"add +2\", Tinv is \"add -2\". Thus T(1) = -1, and T(2) = 0. Well one can see by inspection of the partition corresponding to R above that 1 and 2 are R-related, however -1 and 0 are not. Thus Tinv is not compatible with R. This lemma says that if T and Tinv are not both compatible with R, then Rt is not equal to R. This fact is exemplified by comparing R and Rt above."
     ]
    },
    {
     "cell_type": "heading",
     "level": 4,
     "metadata": {},
     "source": [
      "Lemma 1.3.3"
     ]
    },
    {
     "cell_type": "markdown",
     "metadata": {},
     "source": [
      "Make a set S: [0, 1, ..., 9]. Make an equivalence relation R on S, and create a compatible automorphism T. Check that T is compatible with R."
     ]
    },
    {
     "cell_type": "code",
     "collapsed": false,
     "input": [
      "S = list(range(10))\n",
      "P = [[0], [1], [2, 8], [3, 7], [4], [5], [6, 9]]\n",
      "R = fom.find_equivalence_relation_from_partition(P)\n",
      "T = [(0, 5), (1, 0), (2, 2), (3, 6), (4, 1), (5, 4), (6, 7), (7, 9), (8, 8), (9, 3)]\n",
      "print(fom.check_compatible(T, R))"
     ],
     "language": "python",
     "metadata": {},
     "outputs": [
      {
       "output_type": "stream",
       "stream": "stdout",
       "text": [
        "True\n"
       ]
      }
     ],
     "prompt_number": 10
    },
    {
     "cell_type": "markdown",
     "metadata": {},
     "source": [
      "Make the inverse of T, Tinv. Check that it is compatible with R."
     ]
    },
    {
     "cell_type": "code",
     "collapsed": false,
     "input": [
      "Tinv = fom.make_inverse_relation(T)\n",
      "print(Tinv)\n",
      "fom.check_compatible(Tinv, R)"
     ],
     "language": "python",
     "metadata": {},
     "outputs": [
      {
       "output_type": "stream",
       "stream": "stdout",
       "text": [
        "[(0, 1), (1, 4), (2, 2), (3, 9), (4, 5), (5, 0), (6, 3), (7, 6), (8, 8), (9, 7)]\n"
       ]
      },
      {
       "metadata": {},
       "output_type": "pyout",
       "prompt_number": 13,
       "text": [
        "True"
       ]
      }
     ],
     "prompt_number": 13
    },
    {
     "cell_type": "markdown",
     "metadata": {},
     "source": [
      "T induces an automorphism Tbar on S/R. By examining R and T above, one can see that the automorphism Tbar is as follows: \n",
      "\n",
      "[0] -> [5]; [1] -> [0]; [2, 8] -> [2, 8]; [3, 7] -> [6, 9]; [4] -> [1]; [5] -> [4]; [6, 9] -> [3, 7]\n",
      "\n",
      "Thus if T and Tinv are compatible with R, then T induces Tbar on S/R, i.e., a \"shuffling\" of the equivalence classes under R.\n",
      "\n",
      "As an example of the first paragraph from the Proof, let the equivalence class (s) be (3), i.e., [3, 7]. Tbar((3)) = (T(3)) = (6) = [6, 9]."
     ]
    },
    {
     "cell_type": "heading",
     "level": 4,
     "metadata": {},
     "source": [
      "Remark, Corollary 1.3.1, Remark"
     ]
    },
    {
     "cell_type": "markdown",
     "metadata": {},
     "source": [
      "Recall EXAMPLE 1 and EXAMPLE 2 above. In EXAMPLE 1, T and Tinv are compatible with R. In EXAMPLE 2, T is compatible with R but Tinv is not. Can check that Tbar is onto in both cases.\n",
      "\n",
      "In EXAMPLE 1, Tbar is as follows:\n",
      "\n",
      "[0, 2, 4] -> [5, 6, 8], [1, 9] -> [3, 7], [3, 7] -> [1, 9], [5, 6, 8] -> [0, 2, 4]\n",
      "\n",
      "In EXAMPLE 2, Tbar is as follows:\n",
      "\n",
      "..., [-6, -5] -> [-4, -3], [-4, -3] -> [-2, -1], [-2, -1] -> [0, 1, 2, 3, ... ], [0, 1, 2, 3, ... ] -> [0, 1, 2, 3, ... ]\n",
      "\n",
      "Can see in both cases, Tbar is onto (there is nothing in the range of the mapping that is not the image of some element of the domain). However, in the second case, Tbar is not one-to-one, since the elements [-2, -1] and [0, 1, 2, 3, ... ] both map to [0, 1, 2, 3, ... ].\n",
      "\n",
      "As noted in the Corollary, when Tbar is not one-to-one, it must be a many-to-one mapping of S/R onto itself (as illustrated by EXAMPLE 2). This is impossible unless S/R is an infinite set. Informally, if Tbar is many-to-one, then it must be carrying multiple equivalence classes into a single equivalence class with infinite elements."
     ]
    },
    {
     "cell_type": "heading",
     "level": 4,
     "metadata": {},
     "source": [
      "Notation"
     ]
    },
    {
     "cell_type": "markdown",
     "metadata": {},
     "source": [
      "The fom module provides us with a (grossly inefficient) way to generate Pt: given a set S, generate all the equivalence relations on S (as in section 1.1, probably do not want to do this for S > 5 or 6 elements, will take too long), then keep only those equivalence relations that are compatible with T. Again, we note that since in examples using the fom module involve finite sets, both T and Tinv will be compatible with R."
     ]
    },
    {
     "cell_type": "code",
     "collapsed": false,
     "input": [
      "S = list(range(6))\n",
      "T = fom.make_random_automorphism(S)\n",
      "print(T)\n",
      "print()\n",
      "Pt = fom.make_all_compatible_equivalence_relations(T)\n",
      "for R in Pt:\n",
      "    print(fom.get_quotient_set(R))"
     ],
     "language": "python",
     "metadata": {},
     "outputs": [
      {
       "output_type": "stream",
       "stream": "stdout",
       "text": [
        "[(0, 3), (1, 4), (2, 2), (3, 1), (4, 0), (5, 5)]\n",
        "\n",
        "[[0, 1, 2, 3, 4, 5]]\n",
        "[[0, 1, 2, 3, 4], [5]]\n",
        "[[0, 1, 3, 4, 5], [2]]\n",
        "[[0, 1, 3, 4], [2, 5]]\n",
        "[[0, 1, 3, 4], [2], [5]]\n",
        "[[0, 1], [2, 5], [3, 4]]\n",
        "[[0, 1], [2], [3, 4], [5]]\n",
        "[[0], [1], [2, 5], [3], [4]]\n",
        "[[0], [1], [2], [3], [4], [5]]\n"
       ]
      }
     ],
     "prompt_number": 20
    },
    {
     "cell_type": "heading",
     "level": 4,
     "metadata": {},
     "source": [
      "Lemma 1.3.4"
     ]
    },
    {
     "cell_type": "markdown",
     "metadata": {},
     "source": [
      "Pick R1 and R2 at random from Pt. Check that their union and intersection are in Pt."
     ]
    },
    {
     "cell_type": "code",
     "collapsed": false,
     "input": [
      "R1 = random.choice(Pt)\n",
      "R2 = random.choice(Pt)\n",
      "Ru = fom.calculate_er_union(R1, R2)\n",
      "Ri = fom.calculate_er_intersection(R1, R2)\n",
      "print(fom.get_quotient_set(R1))\n",
      "print(fom.get_quotient_set(R2))\n",
      "print(fom.get_quotient_set(Ru))\n",
      "print(fom.get_quotient_set(Ri))\n",
      "if Ru in Pt:\n",
      "    print('union is in Pt')\n",
      "if Ri in Pt:\n",
      "    print('intersection is in Pt')"
     ],
     "language": "python",
     "metadata": {},
     "outputs": [
      {
       "output_type": "stream",
       "stream": "stdout",
       "text": [
        "[[0], [1], [2, 5], [3], [4]]\n",
        "[[0, 1], [2], [3, 4], [5]]\n",
        "[[0, 1], [2, 5], [3, 4]]\n",
        "[[0], [1], [2], [3], [4], [5]]\n",
        "union is in Pt\n",
        "intersection is in Pt\n"
       ]
      }
     ],
     "prompt_number": 24
    },
    {
     "cell_type": "heading",
     "level": 4,
     "metadata": {},
     "source": [
      "Remark"
     ]
    },
    {
     "cell_type": "markdown",
     "metadata": {},
     "source": [
      "As an exercise, let's find the number of sublattices of the set of all equivalence relations on S. Again, would not recommend doing this with S > 5 or 6 elements, too computationally intensive.\n",
      "\n",
      "We will do this by the following steps: 1) generate all automorphisms of S; 2) for each automorphism, generate corresponding Pt and append to list of all Pt's; 3) remove any redundant items in the list of all Pt's; 4) report the length of list of all Pt's."
     ]
    },
    {
     "cell_type": "code",
     "collapsed": false,
     "input": [
      "As = fom.make_automorphisms(S)\n",
      "all_Pt = []\n",
      "for T in As:\n",
      "    Pt = fom.make_all_compatible_equivalence_relations(T)\n",
      "    all_Pt.append(Pt)\n",
      "final_all_Pt = fom.remove_redundant_items(all_Pt)\n",
      "print(len(final_all_Pt), len(all_Pt))\n",
      "print(len(fom.make_equivalence_relations2(S)))"
     ],
     "language": "python",
     "metadata": {},
     "outputs": [
      {
       "output_type": "stream",
       "stream": "stdout",
       "text": [
        "332 720\n",
        "203\n"
       ]
      }
     ],
     "prompt_number": 27
    },
    {
     "cell_type": "markdown",
     "metadata": {},
     "source": [
      "Summarizing:\n",
      "\n",
      "S = [0, 1, 2, 3, 4, 5]\n",
      "\n",
      "All_R = the set of all equivalence relations on S\n",
      "\n",
      "SS_All_R = the set of all subsets of All_R\n",
      "\n",
      "As = the set of all automorphisms of S\n",
      "\n",
      "all_Pt = the set of all sublattices corresponding to each automorphism in S; different automorphisms may give rise to the same sublattice (i.e., there are repeated elements in all_Pt)\n",
      "\n",
      "final_all_Pt = the set of all sublattices, with no repeated elements\n",
      "\n",
      "So there are 720 sublattices in all_Pt, and 332 sublattices in final_all_Pt. This shows that different automorphisms may give rise to the same sublattice. There are 203 equivalence relations in All_R.\n",
      "\n",
      "Note that an element of final_all_Pt is a member of SS_All_R. The number of elements in SS_All_R is astronomical: 2^203 in this case."
     ]
    },
    {
     "cell_type": "heading",
     "level": 4,
     "metadata": {},
     "source": [
      "Lemma 1.3.5"
     ]
    },
    {
     "cell_type": "markdown",
     "metadata": {},
     "source": [
      "Let's pick a random element from final_all_Pt and print it. As noted in the Remark above, this is a sublattice of the set of all equivalence relations on S."
     ]
    },
    {
     "cell_type": "code",
     "collapsed": false,
     "input": [
      "random_Pt = random.choice(final_all_Pt)\n",
      "for R in random_Pt:\n",
      "    print(fom.get_quotient_set(R))"
     ],
     "language": "python",
     "metadata": {},
     "outputs": [
      {
       "output_type": "stream",
       "stream": "stdout",
       "text": [
        "[[0, 1, 2, 3, 4, 5]]\n",
        "[[0, 1, 3, 4, 5], [2]]\n",
        "[[0, 2, 5], [1, 3, 4]]\n",
        "[[0, 2, 5], [1], [3], [4]]\n",
        "[[0, 5], [1, 2, 3, 4]]\n",
        "[[0, 5], [1, 3, 4], [2]]\n",
        "[[0, 5], [1], [2], [3], [4]]\n",
        "[[0], [1, 2, 3, 4], [5]]\n",
        "[[0], [1, 3, 4], [2], [5]]\n",
        "[[0], [1], [2], [3], [4], [5]]\n"
       ]
      }
     ],
     "prompt_number": 34
    },
    {
     "cell_type": "markdown",
     "metadata": {},
     "source": [
      "Now make a random Z, a linearly ordered subset of Pt with a specified number of elements. Note: the number of elements cannot be too big. If it is greater than some certain number B, then there will not be a linearly ordered subset of the specified size. Is there is a theorem or formula to determine B for a given sublattice?"
     ]
    },
    {
     "cell_type": "code",
     "collapsed": false,
     "input": [
      "Z = fom.make_linearly_ordered_subset(random_Pt, 3)\n",
      "for r in Z:\n",
      "    print(fom.get_quotient_set(r))"
     ],
     "language": "python",
     "metadata": {},
     "outputs": [
      {
       "output_type": "stream",
       "stream": "stdout",
       "text": [
        "[[0, 1, 3, 4, 5], [2]]\n",
        "[[0, 5], [1, 3, 4], [2]]\n",
        "[[0], [1, 3, 4], [2], [5]]\n"
       ]
      }
     ],
     "prompt_number": 92
    },
    {
     "cell_type": "markdown",
     "metadata": {},
     "source": [
      "In Z, the first element may be the trivial relation, and the last element may be equality, but this is not necessarily true.\n",
      "\n",
      "Now find the upper bound and lower bound for Z. Can see that these equivalence relations are certainly in Pt."
     ]
    },
    {
     "cell_type": "code",
     "collapsed": false,
     "input": [
      "lb = fom.calculate_intersection_of_set_of_er(Z)\n",
      "ub = fom.calculate_union_of_set_of_er(Z)\n",
      "print(fom.get_quotient_set(lb))\n",
      "print(fom.get_quotient_set(ub))"
     ],
     "language": "python",
     "metadata": {},
     "outputs": [
      {
       "output_type": "stream",
       "stream": "stdout",
       "text": [
        "[[0], [1, 3, 4], [2], [5]]\n",
        "[[0, 1, 3, 4, 5], [2]]\n"
       ]
      }
     ],
     "prompt_number": 93
    },
    {
     "cell_type": "heading",
     "level": 4,
     "metadata": {},
     "source": [
      "Remark"
     ]
    },
    {
     "cell_type": "markdown",
     "metadata": {},
     "source": [
      "Let's find and print the minimal and maximal elements of Pt. "
     ]
    },
    {
     "cell_type": "code",
     "collapsed": false,
     "input": [
      "max_elements, min_elements = fom.find_max_and_min_elements(random_Pt)\n",
      "print('max elements:')\n",
      "for r in max_elements:\n",
      "    print(fom.get_quotient_set(r))\n",
      "print()\n",
      "print('min elements:')\n",
      "for r in min_elements:\n",
      "    print(fom.get_quotient_set(r))"
     ],
     "language": "python",
     "metadata": {},
     "outputs": [
      {
       "output_type": "stream",
       "stream": "stdout",
       "text": [
        "max elements:\n",
        "[[0, 1, 3, 4, 5], [2]]\n",
        "[[0, 2, 5], [1, 3, 4]]\n",
        "[[0, 5], [1, 2, 3, 4]]\n",
        "\n",
        "min elements:\n",
        "[[0, 5], [1], [2], [3], [4]]\n",
        "[[0], [1, 3, 4], [2], [5]]\n"
       ]
      }
     ],
     "prompt_number": 104
    },
    {
     "cell_type": "markdown",
     "metadata": {},
     "source": [
      "Can see that, for minimal elements, these cannot be further refined (except to equality) and remain compatible with T. Another way of saying this is that there is no equivalence relation in Pt that refines them (except the cases of the equality relation and the relation itself). This is, in fact, how the procedure in fom finds the minimal elements.\n",
      "\n",
      "Can also see that, for maximal elements, these cannot be the refinement of any nontrivial relation compatible with T. Another way of saying this is that there is no equivalence relation in Pt that is refined by these (except the cases of the trivial relation, i.e., all the elements of S in one class, and the relation itself). This is, in fact, how the procedure in fom finds the maximal elements.\n",
      "\n",
      "According to Rosen, these minimal and maximal elements will provide the \"natural\" units of analysis for automorphisms, and for mathematical objects (such as dynamics and symmetries) built out of them."
     ]
    },
    {
     "cell_type": "heading",
     "level": 4,
     "metadata": {},
     "source": [
      "Lemma 1.3.6"
     ]
    },
    {
     "cell_type": "markdown",
     "metadata": {},
     "source": [
      "Make a set S. Choose an automorphism on S, T. Make all the equivalence relations compatible with T, Pt. Print T and Pt."
     ]
    },
    {
     "cell_type": "code",
     "collapsed": false,
     "input": [
      "S = list(range(6))\n",
      "T = fom.make_random_automorphism(S)\n",
      "Pt = fom.make_all_compatible_equivalence_relations(T)\n",
      "print(T)\n",
      "print()\n",
      "for R in Pt:\n",
      "    print(fom.get_quotient_set(R))"
     ],
     "language": "python",
     "metadata": {},
     "outputs": [
      {
       "output_type": "stream",
       "stream": "stdout",
       "text": [
        "[(0, 4), (1, 2), (2, 1), (3, 5), (4, 0), (5, 3)]\n",
        "\n",
        "[[0, 1, 2, 3, 4, 5]]\n",
        "[[0, 1, 2, 4], [3, 5]]\n",
        "[[0, 1, 2, 4], [3], [5]]\n",
        "[[0, 1, 3], [2, 4, 5]]\n",
        "[[0, 1, 5], [2, 3, 4]]\n",
        "[[0, 1], [2, 4], [3, 5]]\n",
        "[[0, 1], [2, 4], [3], [5]]\n",
        "[[0, 2, 3], [1, 4, 5]]\n",
        "[[0, 2, 5], [1, 3, 4]]\n",
        "[[0, 2], [1, 4], [3, 5]]\n",
        "[[0, 2], [1, 4], [3], [5]]\n",
        "[[0, 3, 4, 5], [1, 2]]\n",
        "[[0, 3, 4, 5], [1], [2]]\n",
        "[[0, 3], [1, 2], [4, 5]]\n",
        "[[0, 3], [1], [2], [4, 5]]\n",
        "[[0, 4], [1, 2, 3, 5]]\n",
        "[[0, 4], [1, 2], [3, 5]]\n",
        "[[0, 4], [1, 2], [3], [5]]\n",
        "[[0, 4], [1, 3], [2, 5]]\n",
        "[[0, 4], [1, 5], [2, 3]]\n",
        "[[0, 4], [1], [2], [3, 5]]\n",
        "[[0, 4], [1], [2], [3], [5]]\n",
        "[[0, 5], [1, 2], [3, 4]]\n",
        "[[0, 5], [1], [2], [3, 4]]\n",
        "[[0], [1, 2, 3, 5], [4]]\n",
        "[[0], [1, 2], [3, 5], [4]]\n",
        "[[0], [1, 2], [3], [4], [5]]\n",
        "[[0], [1, 3], [2, 5], [4]]\n",
        "[[0], [1, 5], [2, 3], [4]]\n",
        "[[0], [1], [2], [3, 5], [4]]\n",
        "[[0], [1], [2], [3], [4], [5]]\n"
       ]
      }
     ],
     "prompt_number": 131
    },
    {
     "cell_type": "markdown",
     "metadata": {},
     "source": [
      "Choose 2 equivalence relations from Pt at random, R1 and R2. Calculate their intersection, R. Print R1, R2, and R."
     ]
    },
    {
     "cell_type": "code",
     "collapsed": false,
     "input": [
      "R1 = random.choice(Pt)\n",
      "R2 = random.choice(Pt)\n",
      "R = fom.calculate_er_intersection(R1, R2)\n",
      "print(fom.get_quotient_set(R1), fom.get_quotient_set(R2))\n",
      "print(fom.get_quotient_set(R))"
     ],
     "language": "python",
     "metadata": {},
     "outputs": [
      {
       "output_type": "stream",
       "stream": "stdout",
       "text": [
        "[[0], [1, 2, 3, 5], [4]] [[0, 2, 3], [1, 4, 5]]\n",
        "[[0], [1, 5], [2, 3], [4]]\n"
       ]
      }
     ],
     "prompt_number": 137
    },
    {
     "cell_type": "markdown",
     "metadata": {},
     "source": [
      "Now, make the quotient sets S/R1 and S/R2, here called P1 and P2. Print the cartesian product P1 x P2. Print T again, for reference. Note that, in this case, not every S/R1-class intersects every S/R2-class, e.g., ([4], [0, 2, 3]). "
     ]
    },
    {
     "cell_type": "code",
     "collapsed": false,
     "input": [
      "P1, P2 = fom.get_quotient_set(R1), fom.get_quotient_set(R2)\n",
      "cp = fom.make_cartesian_product(P1, P2)\n",
      "print(cp)\n",
      "print()\n",
      "print(T)"
     ],
     "language": "python",
     "metadata": {},
     "outputs": [
      {
       "output_type": "stream",
       "stream": "stdout",
       "text": [
        "[([0], [0, 2, 3]), ([0], [1, 4, 5]), ([1, 2, 3, 5], [0, 2, 3]), ([1, 2, 3, 5], [1, 4, 5]), ([4], [0, 2, 3]), ([4], [1, 4, 5])]\n",
        "\n",
        "[(0, 4), (1, 2), (2, 1), (3, 5), (4, 0), (5, 3)]\n"
       ]
      }
     ],
     "prompt_number": 138
    },
    {
     "cell_type": "markdown",
     "metadata": {},
     "source": [
      "To illustrate the Lemma and its proof, we will explicitly show the calculation for all s in S. Tbar, Tbar1, and Tbar2 correspond to the automorphisms discussed in the proof. '(2)R1' means the equivalence class of 2 under R1. After each calculation, we print another line just under the calculation that begins 'automorphism induced by T:'; this is intended to show how Tbar ends up being an automorphism induced by T."
     ]
    },
    {
     "cell_type": "code",
     "collapsed": false,
     "input": [
      "P = fom.get_quotient_set(R)\n",
      "for s in S:\n",
      "    Ts = fom.evaluate_mapping(T, s)\n",
      "    for b in P1:\n",
      "        if s in b:\n",
      "            Xb1 = b\n",
      "        if Ts in b:\n",
      "            Yb1 = b  \n",
      "    for b in P2:\n",
      "        if s in b:\n",
      "            Xb2 = b\n",
      "        if Ts in b:\n",
      "            Yb2 = b\n",
      "    for b in P:\n",
      "        if s in b:\n",
      "            Xb = b\n",
      "        if Ts in b:\n",
      "            Yb = b\n",
      "    print('Tbar(({})R1,({})R2) = Tbar({}, {}) = (Tbar1({}), Tbar2({})) = ({}, {})'.format(s, s, Xb1, Xb2, Xb1, Xb2, Yb1, Yb2))\n",
      "    print('automorphism induced by T: {} -> {}'.format(Xb, Yb))\n",
      "    print()\n",
      "    "
     ],
     "language": "python",
     "metadata": {},
     "outputs": [
      {
       "output_type": "stream",
       "stream": "stdout",
       "text": [
        "Tbar((0)R1,(0)R2) = Tbar([0], [0, 2, 3]) = (Tbar1([0]), Tbar2([0, 2, 3])) = ([4], [1, 4, 5])\n",
        "automorphism induced by T: [0] -> [4]\n",
        "\n",
        "Tbar((1)R1,(1)R2) = Tbar([1, 2, 3, 5], [1, 4, 5]) = (Tbar1([1, 2, 3, 5]), Tbar2([1, 4, 5])) = ([1, 2, 3, 5], [0, 2, 3])\n",
        "automorphism induced by T: [1, 5] -> [2, 3]\n",
        "\n",
        "Tbar((2)R1,(2)R2) = Tbar([1, 2, 3, 5], [0, 2, 3]) = (Tbar1([1, 2, 3, 5]), Tbar2([0, 2, 3])) = ([1, 2, 3, 5], [1, 4, 5])\n",
        "automorphism induced by T: [2, 3] -> [1, 5]\n",
        "\n",
        "Tbar((3)R1,(3)R2) = Tbar([1, 2, 3, 5], [0, 2, 3]) = (Tbar1([1, 2, 3, 5]), Tbar2([0, 2, 3])) = ([1, 2, 3, 5], [1, 4, 5])\n",
        "automorphism induced by T: [2, 3] -> [1, 5]\n",
        "\n",
        "Tbar((4)R1,(4)R2) = Tbar([4], [1, 4, 5]) = (Tbar1([4]), Tbar2([1, 4, 5])) = ([0], [0, 2, 3])\n",
        "automorphism induced by T: [4] -> [0]\n",
        "\n",
        "Tbar((5)R1,(5)R2) = Tbar([1, 2, 3, 5], [1, 4, 5]) = (Tbar1([1, 2, 3, 5]), Tbar2([1, 4, 5])) = ([1, 2, 3, 5], [0, 2, 3])\n",
        "automorphism induced by T: [1, 5] -> [2, 3]\n",
        "\n"
       ]
      }
     ],
     "prompt_number": 157
    },
    {
     "cell_type": "markdown",
     "metadata": {},
     "source": [
      "If you take the intersection of the arguments to Tbar (e.g., [0] and [0, 2, 3] = [0]) and the intersection of the outputs of Tbar (e.g., [4] and [1, 4, 5] = [4]), this gives the argument and image of the automorphism induced by T, shown just below each line of calculation.\n",
      "\n",
      "The proof talks about restricting Tbar to the subset phi(S/R). This is accomplished by putting s = s'. Let's consider what happens if s does not have to equal s'. We can re-use the above code, adding another for loop."
     ]
    },
    {
     "cell_type": "code",
     "collapsed": false,
     "input": [
      "for s in S:\n",
      "    for sprime in S:\n",
      "        Ts = fom.evaluate_mapping(T, s)\n",
      "        Tsprime = fom.evaluate_mapping(T, sprime)\n",
      "        for b in P1:\n",
      "            if s in b:\n",
      "                Xb1 = b\n",
      "            if Ts in b:\n",
      "                Yb1 = b  \n",
      "        for b in P2:\n",
      "            if sprime in b:\n",
      "                Xb2 = b\n",
      "            if Tsprime in b:\n",
      "                Yb2 = b\n",
      "        print('Tbar(({})R1,({})R2) = Tbar({}, {}) = (Tbar1({}), Tbar2({})) = ({}, {})'.format(s, sprime, Xb1, Xb2, Xb1, Xb2, Yb1, Yb2))\n"
     ],
     "language": "python",
     "metadata": {},
     "outputs": [
      {
       "output_type": "stream",
       "stream": "stdout",
       "text": [
        "Tbar((0)R1,(0)R2) = Tbar([0], [0, 2, 3]) = (Tbar1([0]), Tbar2([0, 2, 3])) = ([4], [1, 4, 5])\n",
        "Tbar((0)R1,(1)R2) = Tbar([0], [1, 4, 5]) = (Tbar1([0]), Tbar2([1, 4, 5])) = ([4], [0, 2, 3])\n",
        "Tbar((0)R1,(2)R2) = Tbar([0], [0, 2, 3]) = (Tbar1([0]), Tbar2([0, 2, 3])) = ([4], [1, 4, 5])\n",
        "Tbar((0)R1,(3)R2) = Tbar([0], [0, 2, 3]) = (Tbar1([0]), Tbar2([0, 2, 3])) = ([4], [1, 4, 5])\n",
        "Tbar((0)R1,(4)R2) = Tbar([0], [1, 4, 5]) = (Tbar1([0]), Tbar2([1, 4, 5])) = ([4], [0, 2, 3])\n",
        "Tbar((0)R1,(5)R2) = Tbar([0], [1, 4, 5]) = (Tbar1([0]), Tbar2([1, 4, 5])) = ([4], [0, 2, 3])\n",
        "Tbar((1)R1,(0)R2) = Tbar([1, 2, 3, 5], [0, 2, 3]) = (Tbar1([1, 2, 3, 5]), Tbar2([0, 2, 3])) = ([1, 2, 3, 5], [1, 4, 5])\n",
        "Tbar((1)R1,(1)R2) = Tbar([1, 2, 3, 5], [1, 4, 5]) = (Tbar1([1, 2, 3, 5]), Tbar2([1, 4, 5])) = ([1, 2, 3, 5], [0, 2, 3])\n",
        "Tbar((1)R1,(2)R2) = Tbar([1, 2, 3, 5], [0, 2, 3]) = (Tbar1([1, 2, 3, 5]), Tbar2([0, 2, 3])) = ([1, 2, 3, 5], [1, 4, 5])\n",
        "Tbar((1)R1,(3)R2) = Tbar([1, 2, 3, 5], [0, 2, 3]) = (Tbar1([1, 2, 3, 5]), Tbar2([0, 2, 3])) = ([1, 2, 3, 5], [1, 4, 5])\n",
        "Tbar((1)R1,(4)R2) = Tbar([1, 2, 3, 5], [1, 4, 5]) = (Tbar1([1, 2, 3, 5]), Tbar2([1, 4, 5])) = ([1, 2, 3, 5], [0, 2, 3])\n",
        "Tbar((1)R1,(5)R2) = Tbar([1, 2, 3, 5], [1, 4, 5]) = (Tbar1([1, 2, 3, 5]), Tbar2([1, 4, 5])) = ([1, 2, 3, 5], [0, 2, 3])\n",
        "Tbar((2)R1,(0)R2) = Tbar([1, 2, 3, 5], [0, 2, 3]) = (Tbar1([1, 2, 3, 5]), Tbar2([0, 2, 3])) = ([1, 2, 3, 5], [1, 4, 5])\n",
        "Tbar((2)R1,(1)R2) = Tbar([1, 2, 3, 5], [1, 4, 5]) = (Tbar1([1, 2, 3, 5]), Tbar2([1, 4, 5])) = ([1, 2, 3, 5], [0, 2, 3])\n",
        "Tbar((2)R1,(2)R2) = Tbar([1, 2, 3, 5], [0, 2, 3]) = (Tbar1([1, 2, 3, 5]), Tbar2([0, 2, 3])) = ([1, 2, 3, 5], [1, 4, 5])\n",
        "Tbar((2)R1,(3)R2) = Tbar([1, 2, 3, 5], [0, 2, 3]) = (Tbar1([1, 2, 3, 5]), Tbar2([0, 2, 3])) = ([1, 2, 3, 5], [1, 4, 5])\n",
        "Tbar((2)R1,(4)R2) = Tbar([1, 2, 3, 5], [1, 4, 5]) = (Tbar1([1, 2, 3, 5]), Tbar2([1, 4, 5])) = ([1, 2, 3, 5], [0, 2, 3])\n",
        "Tbar((2)R1,(5)R2) = Tbar([1, 2, 3, 5], [1, 4, 5]) = (Tbar1([1, 2, 3, 5]), Tbar2([1, 4, 5])) = ([1, 2, 3, 5], [0, 2, 3])\n",
        "Tbar((3)R1,(0)R2) = Tbar([1, 2, 3, 5], [0, 2, 3]) = (Tbar1([1, 2, 3, 5]), Tbar2([0, 2, 3])) = ([1, 2, 3, 5], [1, 4, 5])\n",
        "Tbar((3)R1,(1)R2) = Tbar([1, 2, 3, 5], [1, 4, 5]) = (Tbar1([1, 2, 3, 5]), Tbar2([1, 4, 5])) = ([1, 2, 3, 5], [0, 2, 3])\n",
        "Tbar((3)R1,(2)R2) = Tbar([1, 2, 3, 5], [0, 2, 3]) = (Tbar1([1, 2, 3, 5]), Tbar2([0, 2, 3])) = ([1, 2, 3, 5], [1, 4, 5])\n",
        "Tbar((3)R1,(3)R2) = Tbar([1, 2, 3, 5], [0, 2, 3]) = (Tbar1([1, 2, 3, 5]), Tbar2([0, 2, 3])) = ([1, 2, 3, 5], [1, 4, 5])\n",
        "Tbar((3)R1,(4)R2) = Tbar([1, 2, 3, 5], [1, 4, 5]) = (Tbar1([1, 2, 3, 5]), Tbar2([1, 4, 5])) = ([1, 2, 3, 5], [0, 2, 3])\n",
        "Tbar((3)R1,(5)R2) = Tbar([1, 2, 3, 5], [1, 4, 5]) = (Tbar1([1, 2, 3, 5]), Tbar2([1, 4, 5])) = ([1, 2, 3, 5], [0, 2, 3])\n",
        "Tbar((4)R1,(0)R2) = Tbar([4], [0, 2, 3]) = (Tbar1([4]), Tbar2([0, 2, 3])) = ([0], [1, 4, 5])\n",
        "Tbar((4)R1,(1)R2) = Tbar([4], [1, 4, 5]) = (Tbar1([4]), Tbar2([1, 4, 5])) = ([0], [0, 2, 3])\n",
        "Tbar((4)R1,(2)R2) = Tbar([4], [0, 2, 3]) = (Tbar1([4]), Tbar2([0, 2, 3])) = ([0], [1, 4, 5])\n",
        "Tbar((4)R1,(3)R2) = Tbar([4], [0, 2, 3]) = (Tbar1([4]), Tbar2([0, 2, 3])) = ([0], [1, 4, 5])\n",
        "Tbar((4)R1,(4)R2) = Tbar([4], [1, 4, 5]) = (Tbar1([4]), Tbar2([1, 4, 5])) = ([0], [0, 2, 3])\n",
        "Tbar((4)R1,(5)R2) = Tbar([4], [1, 4, 5]) = (Tbar1([4]), Tbar2([1, 4, 5])) = ([0], [0, 2, 3])\n",
        "Tbar((5)R1,(0)R2) = Tbar([1, 2, 3, 5], [0, 2, 3]) = (Tbar1([1, 2, 3, 5]), Tbar2([0, 2, 3])) = ([1, 2, 3, 5], [1, 4, 5])\n",
        "Tbar((5)R1,(1)R2) = Tbar([1, 2, 3, 5], [1, 4, 5]) = (Tbar1([1, 2, 3, 5]), Tbar2([1, 4, 5])) = ([1, 2, 3, 5], [0, 2, 3])\n",
        "Tbar((5)R1,(2)R2) = Tbar([1, 2, 3, 5], [0, 2, 3]) = (Tbar1([1, 2, 3, 5]), Tbar2([0, 2, 3])) = ([1, 2, 3, 5], [1, 4, 5])\n",
        "Tbar((5)R1,(3)R2) = Tbar([1, 2, 3, 5], [0, 2, 3]) = (Tbar1([1, 2, 3, 5]), Tbar2([0, 2, 3])) = ([1, 2, 3, 5], [1, 4, 5])\n",
        "Tbar((5)R1,(4)R2) = Tbar([1, 2, 3, 5], [1, 4, 5]) = (Tbar1([1, 2, 3, 5]), Tbar2([1, 4, 5])) = ([1, 2, 3, 5], [0, 2, 3])\n",
        "Tbar((5)R1,(5)R2) = Tbar([1, 2, 3, 5], [1, 4, 5]) = (Tbar1([1, 2, 3, 5]), Tbar2([1, 4, 5])) = ([1, 2, 3, 5], [0, 2, 3])\n"
       ]
      }
     ],
     "prompt_number": 158
    },
    {
     "cell_type": "markdown",
     "metadata": {},
     "source": [
      "We have the same kind of print out as above, but here we can see that many of these lines do not correspond to anything that T does to S/R. For example, look at the second line, which begins: Tbar((0)R1,(1)R2) = Tbar([0], [1, 4, 5]). Well, the intersection of [0] and [1, 4, 5] is empty, and the intersection of the elements in the image is also empty (i.e., [4] and [0, 2, 3]). This is not connected to the action of T."
     ]
    },
    {
     "cell_type": "heading",
     "level": 4,
     "metadata": {},
     "source": [
      "Lemma 1.3.7"
     ]
    },
    {
     "cell_type": "markdown",
     "metadata": {},
     "source": [
      "Make a set, S. Make an equivalence relation on S, R. Make the set of all automorphisms with which R is compatible, Pr. Print R, the number of automorphisms in Pr, and one example of an automorphism in Pr."
     ]
    },
    {
     "cell_type": "code",
     "collapsed": false,
     "input": [
      "S = list(range(6))\n",
      "R = fom.make_random_equivalence_relation(S)\n",
      "P = fom.find_partition_from_equivalence_relation(R)\n",
      "Pr = fom.make_all_compatible_automorphisms(R)\n",
      "print(P)\n",
      "print(len(Pr))\n",
      "for t in Pr:\n",
      "    if fom.check_compatible(t, R) == False:\n",
      "        print(t)\n",
      "T = random.choice(Pr)\n",
      "print(T)"
     ],
     "language": "python",
     "metadata": {},
     "outputs": [
      {
       "output_type": "stream",
       "stream": "stdout",
       "text": [
        "[[0, 2], [1, 4], [3, 5]]\n",
        "48\n",
        "[(0, 2), (1, 1), (2, 0), (3, 5), (4, 4), (5, 3)]\n"
       ]
      }
     ],
     "prompt_number": 169
    },
    {
     "cell_type": "markdown",
     "metadata": {},
     "source": [
      "As previously noted, in this example and almost all others, we are dealing with finite sets, thus S/R is finite, thus (by Corollary 1.3.1) if T is compatible with R, so is Tinv. This means Pr should be a group in the above example. Can check this (the fom procedure checks the group properties), but it takes a while."
     ]
    },
    {
     "cell_type": "code",
     "collapsed": false,
     "input": [
      "#this turns out to be true, but often takes a long time\n",
      "fom.check_group(Pr)"
     ],
     "language": "python",
     "metadata": {},
     "outputs": [
      {
       "metadata": {},
       "output_type": "pyout",
       "prompt_number": 170,
       "text": [
        "True"
       ]
      }
     ],
     "prompt_number": 170
    },
    {
     "cell_type": "heading",
     "level": 4,
     "metadata": {},
     "source": [
      "Remark"
     ]
    },
    {
     "cell_type": "markdown",
     "metadata": {},
     "source": [
      "Pick 2 automorphisms compatible with R, T1 and T2 (can choose them from Pr, made above). Make the set of all equivalence relations compatible with T1, Pt1. Make the set of all equivalence relations compatible with T2, Pt2. Make the intersection of Pt1 and Pt2, Pt_int. Print T1, T2, the length of Pt1, the length of Pt2, the length of Pt_int, and each equivalence relation in Pt_int. Show that R is in Pt_int by highlighting it with '**'."
     ]
    },
    {
     "cell_type": "code",
     "collapsed": false,
     "input": [
      "T1 = random.choice(Pr)\n",
      "T2 = random.choice(Pr)\n",
      "Pt1 = fom.make_all_compatible_equivalence_relations(T1)\n",
      "Pt2 = fom.make_all_compatible_equivalence_relations(T2)\n",
      "Pt_int = fom.calculate_intersection(Pt1, Pt2)\n",
      "print(T1)\n",
      "print(T2)\n",
      "print(len(Pt1), len(Pt2), len(Pt_int))\n",
      "for r in Pt_int:\n",
      "    if r == R:\n",
      "        print('**{}**'.format(fom.get_quotient_set(r)))\n",
      "    else:\n",
      "        print('{}'.format(fom.get_quotient_set(r)))"
     ],
     "language": "python",
     "metadata": {},
     "outputs": [
      {
       "output_type": "stream",
       "stream": "stdout",
       "text": [
        "[(0, 2), (1, 1), (2, 0), (3, 3), (4, 4), (5, 5)]\n",
        "[(0, 0), (1, 4), (2, 2), (3, 5), (4, 1), (5, 3)]\n",
        "67 31 19\n",
        "[[0, 1, 2, 3, 4, 5]]\n",
        "[[0, 1, 2, 4], [3, 5]]\n",
        "[[0, 1, 2, 4], [3], [5]]\n",
        "[[0, 2, 3, 5], [1, 4]]\n",
        "[[0, 2, 3, 5], [1], [4]]\n",
        "[[0, 2], [1, 3, 4, 5]]\n",
        "[[0, 2], [1, 3], [4, 5]]\n",
        "**[[0, 2], [1, 4], [3, 5]]**\n",
        "[[0, 2], [1, 4], [3], [5]]\n",
        "[[0, 2], [1, 5], [3, 4]]\n",
        "[[0, 2], [1], [3, 5], [4]]\n",
        "[[0, 2], [1], [3], [4], [5]]\n",
        "[[0], [1, 3, 4, 5], [2]]\n",
        "[[0], [1, 3], [2], [4, 5]]\n",
        "[[0], [1, 4], [2], [3, 5]]\n",
        "[[0], [1, 4], [2], [3], [5]]\n",
        "[[0], [1, 5], [2], [3, 4]]\n",
        "[[0], [1], [2], [3, 5], [4]]\n",
        "[[0], [1], [2], [3], [4], [5]]\n"
       ]
      }
     ],
     "prompt_number": 173
    },
    {
     "cell_type": "markdown",
     "metadata": {},
     "source": [
      "Clearly this intersection Pt_int is not trivial (i.e., there exist multiple nontrivial equivalence relations on S which are simultaneously compatible with T1 and T2)."
     ]
    },
    {
     "cell_type": "heading",
     "level": 4,
     "metadata": {},
     "source": [
      "Definition 1.3.3"
     ]
    },
    {
     "cell_type": "markdown",
     "metadata": {},
     "source": [
      "Let subset A of S be invariant under T and Tinv. As stated, this means that T(A) = A. The invariant sets form a partition of S, and hence an equivalence relation on S, R_T.\n",
      "\n",
      "One way we can construct an example of R_T is the following. Make a set S. Pick a random automorphism on the set. Then make the cyclic subgroup for that automorphism. This cyclic automorphism corresponds to R_T. Print it."
     ]
    },
    {
     "cell_type": "code",
     "collapsed": false,
     "input": [
      "S = list(range(6))\n",
      "T = fom.make_random_automorphism(S)\n",
      "print(T)\n",
      "G = fom.make_cyclic_subgroup(T)\n",
      "R_T = fom.find_equivalence_relation_from_cyclic_subgroup(G)\n",
      "print(fom.get_quotient_set(R_T))"
     ],
     "language": "python",
     "metadata": {},
     "outputs": [
      {
       "output_type": "stream",
       "stream": "stdout",
       "text": [
        "[(0, 4), (1, 1), (2, 5), (3, 0), (4, 3), (5, 2)]\n",
        "[[0, 3, 4], [1], [2, 5]]\n"
       ]
      }
     ],
     "prompt_number": 176
    },
    {
     "cell_type": "markdown",
     "metadata": {},
     "source": [
      "Now make two automorphisms, T1 and T2, and their corresponding R_T1 and R_T2. Then form the union of R_T1 and R_T2, R. Make the set of compatible equivalence relations for T1 and T2, Pt1, Pt2. Make their intersection, Pt_int. Check that R is in Pt_int."
     ]
    },
    {
     "cell_type": "code",
     "collapsed": false,
     "input": [
      "T1 = fom.make_random_automorphism(S)\n",
      "T2 = fom.make_random_automorphism(S)\n",
      "G1 = fom.make_cyclic_subgroup(T1)\n",
      "R_T1 = fom.find_equivalence_relation_from_cyclic_subgroup(G1)\n",
      "G2 = fom.make_cyclic_subgroup(T2)\n",
      "R_T2 = fom.find_equivalence_relation_from_cyclic_subgroup(G2)\n",
      "print('T1: {}'.format(T1))\n",
      "print('R_T1: {}'.format(fom.get_quotient_set(R_T1)))\n",
      "print('T2: {}'.format(T2))\n",
      "print('R_T2: {}'.format(fom.get_quotient_set(R_T2)))\n",
      "R = fom.calculate_er_union(R_T1, R_T2)\n",
      "print('R: {}'.format(fom.get_quotient_set(R)))\n",
      "Pt1 = fom.make_all_compatible_equivalence_relations(T1)\n",
      "Pt2 = fom.make_all_compatible_equivalence_relations(T2)\n",
      "Pt_int = fom.calculate_intersection(Pt1, Pt2)\n",
      "print('R in Pt_int: {}'.format(R in Pt_int))"
     ],
     "language": "python",
     "metadata": {},
     "outputs": [
      {
       "output_type": "stream",
       "stream": "stdout",
       "text": [
        "T1: [(0, 5), (1, 3), (2, 2), (3, 4), (4, 1), (5, 0)]\n",
        "R_T1: [[0, 5], [1, 3, 4], [2]]\n",
        "T2: [(0, 2), (1, 1), (2, 0), (3, 4), (4, 3), (5, 5)]\n",
        "R_T2: [[0, 2], [1], [3, 4], [5]]\n",
        "R: [[0, 2, 5], [1, 3, 4]]\n",
        "R in Pt_int: True"
       ]
      },
      {
       "output_type": "stream",
       "stream": "stdout",
       "text": [
        "\n"
       ]
      }
     ],
     "prompt_number": 192
    },
    {
     "cell_type": "markdown",
     "metadata": {},
     "source": [
      "As noted in the text, if the union R is nontrivial, we have exhibited a nontrivial relation that is simultaneously compatible with two given automorphisms. This is a sufficient condition. But even if R is trivial, there still may be a nontrivial relation that is simultaneously compatible with the two automorphisms. We can give an explicit example by repeating the above steps, showing that R is trivial and yet there are relations in Pt_int that are nontrivial. Another way of saying this is that if the length of Pt_int > 2, then there must be a nontrivial relation that is simultaneously compatible with T1 and T2 (i.e., other than the trivial relation and the equality relation). "
     ]
    },
    {
     "cell_type": "code",
     "collapsed": false,
     "input": [
      "S = list(range(6))\n",
      "trivial_relation = fom.calculate_maximal_equivalence_relation(S)\n",
      "T1 = fom.make_random_automorphism(S)\n",
      "T2 = fom.make_random_automorphism(S)\n",
      "G1 = fom.make_cyclic_subgroup(T1)\n",
      "R_T1 = fom.find_equivalence_relation_from_cyclic_subgroup(G1)\n",
      "G2 = fom.make_cyclic_subgroup(T2)\n",
      "R_T2 = fom.find_equivalence_relation_from_cyclic_subgroup(G2)\n",
      "R = fom.calculate_er_union(R_T1, R_T2)\n",
      "Pt1 = fom.make_all_compatible_equivalence_relations(T1)\n",
      "Pt2 = fom.make_all_compatible_equivalence_relations(T2)\n",
      "Pt_int = fom.calculate_intersection(Pt1, Pt2)\n",
      "\n",
      "while R != trivial_relation or len(Pt_int) <= 2:\n",
      "    T1 = fom.make_random_automorphism(S)\n",
      "    T2 = fom.make_random_automorphism(S)\n",
      "    G1 = fom.make_cyclic_subgroup(T1)\n",
      "    R_T1 = fom.find_equivalence_relation_from_cyclic_subgroup(G1)\n",
      "    G2 = fom.make_cyclic_subgroup(T2)\n",
      "    R_T2 = fom.find_equivalence_relation_from_cyclic_subgroup(G2)\n",
      "    R = fom.calculate_er_union(R_T1, R_T2)\n",
      "    Pt1 = fom.make_all_compatible_equivalence_relations(T1)\n",
      "    Pt2 = fom.make_all_compatible_equivalence_relations(T2)\n",
      "    Pt_int = fom.calculate_intersection(Pt1, Pt2)    \n",
      "\n",
      "print('T1: {}'.format(T1))\n",
      "print('R_T1: {}'.format(fom.get_quotient_set(R_T1)))\n",
      "print('T2: {}'.format(T2))\n",
      "print('R_T2: {}'.format(fom.get_quotient_set(R_T2)))\n",
      "print('R: {}'.format(fom.get_quotient_set(R)))\n",
      "print('R in Pt_int: {}'.format(R in Pt_int))\n",
      "print()\n",
      "for r in Pt_int:\n",
      "    print(fom.get_quotient_set(r))"
     ],
     "language": "python",
     "metadata": {},
     "outputs": [
      {
       "output_type": "stream",
       "stream": "stdout",
       "text": [
        "T1: [(0, 3), (1, 5), (2, 4), (3, 0), (4, 2), (5, 1)]\n",
        "R_T1: [[0, 3], [1, 5], [2, 4]]\n",
        "T2: [(0, 0), (1, 2), (2, 3), (3, 1), (4, 5), (5, 4)]\n",
        "R_T2: [[0], [1, 2, 3], [4, 5]]\n",
        "R: [[0, 1, 2, 3, 4, 5]]\n",
        "R in Pt_int: True\n",
        "\n",
        "[[0, 1, 2, 3, 4, 5]]\n",
        "[[0, 4, 5], [1, 2, 3]]\n",
        "[[0], [1], [2], [3], [4], [5]]\n"
       ]
      }
     ],
     "prompt_number": 225
    },
    {
     "cell_type": "markdown",
     "metadata": {},
     "source": [
      "In the above case, R_T1 and R_T2 are nontrivial relations. R is the trivial relation. However, there is a nontrivial relation in Pt_int, in this case different from either R_T1 and R_T2, namely [[0, 4, 5], [1, 2, 3]]."
     ]
    },
    {
     "cell_type": "heading",
     "level": 4,
     "metadata": {},
     "source": [
      "Remark"
     ]
    },
    {
     "cell_type": "markdown",
     "metadata": {},
     "source": [
      "Rosen suggests a line of research: the interplay between certain sublattices Pt of the lattice of all equivalence relations on S, and certain subgroups of the set of all automorphisms on S. Go for it."
     ]
    },
    {
     "cell_type": "code",
     "collapsed": false,
     "input": [],
     "language": "python",
     "metadata": {},
     "outputs": []
    }
   ],
   "metadata": {}
  }
 ]
}
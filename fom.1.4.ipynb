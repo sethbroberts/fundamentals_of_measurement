{
 "cells": [
  {
   "cell_type": "markdown",
   "metadata": {},
   "source": [
    "# Fundamentals of Measurement and Representation of Natural Systems\n",
    "\n",
    "## by Robert Rosen\n",
    "\n",
    "These notebooks are an accompaniment to Chapter 1 of Robert Rosen's Fundamentals of Measurement and Representation of Natural Systems (FOM). They represent an attempt to understand some of the concepts contained in this book. It is hoped that this work may provide others with an introduction to Rosen's book and some of the ideas surrounding equivalence relations, as well. The section headings used correspond to those in FOM. \n",
    "\n",
    "The main goal is a correct and transparent presentation of the underlying ideas. These notebooks are available as blog posts and on github (https://github.com/sethbroberts/fundamentals_of_measurement). The notebooks and the library of custom functions, fom.py, can be used to run the examples interactively. If you want to use fom.py, you should install the PartitionSets Python library (https://pypi.python.org/pypi/PartitionSets/0.1.1) and networkX (https://networkx.github.io/).\n",
    "\n",
    "This notebook covers section 1.4."
   ]
  },
  {
   "cell_type": "code",
   "execution_count": 1,
   "metadata": {
    "collapsed": false
   },
   "outputs": [],
   "source": [
    "%load_ext autoreload\n",
    "%autoreload 1\n",
    "%aimport fom\n",
    "import random"
   ]
  },
  {
   "cell_type": "markdown",
   "metadata": {},
   "source": [
    "### 1.4 Equivalence Relations and Groups of Automorphisms"
   ]
  },
  {
   "cell_type": "markdown",
   "metadata": {},
   "source": [
    "#### Definition 1.4.1"
   ]
  },
  {
   "cell_type": "code",
   "execution_count": 132,
   "metadata": {
    "collapsed": false
   },
   "outputs": [
    {
     "name": "stdout",
     "output_type": "stream",
     "text": [
      "T^0 = [(0, 2), (1, 1), (2, 6), (3, 0), (4, 9), (5, 4), (6, 8), (7, 7), (8, 3), (9, 5)]\n",
      "T^3 = [(0, 3), (1, 1), (2, 0), (3, 8), (4, 9), (5, 4), (6, 2), (7, 7), (8, 6), (9, 5)]\n",
      "[[0, 2, 3, 6, 8], [1], [4, 5, 9], [7]]\n",
      "True\n",
      "15\n"
     ]
    }
   ],
   "source": [
    "S = list(range(10))\n",
    "T = fom.make_random_automorphism(S)\n",
    "Tn = fom.make_cyclic_subgroup(T)\n",
    "PTn = fom.find_partition_from_cyclic_subgroup(Tn)\n",
    "print('T^0 = {}'.format(Tn[0]))\n",
    "print('T^3 = {}'.format(Tn[3]))\n",
    "print(PTn)\n",
    "print(fom.check_group(Tn))\n",
    "print(len(Tn))"
   ]
  },
  {
   "cell_type": "code",
   "execution_count": 140,
   "metadata": {
    "collapsed": false
   },
   "outputs": [
    {
     "name": "stdout",
     "output_type": "stream",
     "text": [
      "0 -> T^0 -> [(0, 2), (1, 1), (2, 6), (3, 0), (4, 9), (5, 4), (6, 8), (7, 7), (8, 3), (9, 5)]\n",
      "1 -> T^1 -> [(0, 6), (1, 1), (2, 8), (3, 2), (4, 5), (5, 9), (6, 3), (7, 7), (8, 0), (9, 4)]\n",
      "2 -> T^2 -> [(0, 8), (1, 1), (2, 3), (3, 6), (4, 4), (5, 5), (6, 0), (7, 7), (8, 2), (9, 9)]\n",
      "3 -> T^3 -> [(0, 3), (1, 1), (2, 0), (3, 8), (4, 9), (5, 4), (6, 2), (7, 7), (8, 6), (9, 5)]\n",
      "4 -> T^4 -> [(0, 0), (1, 1), (2, 2), (3, 3), (4, 5), (5, 9), (6, 6), (7, 7), (8, 8), (9, 4)]\n",
      "5 -> T^5 -> [(0, 2), (1, 1), (2, 6), (3, 0), (4, 4), (5, 5), (6, 8), (7, 7), (8, 3), (9, 9)]\n",
      "6 -> T^6 -> [(0, 6), (1, 1), (2, 8), (3, 2), (4, 9), (5, 4), (6, 3), (7, 7), (8, 0), (9, 5)]\n",
      "7 -> T^7 -> [(0, 8), (1, 1), (2, 3), (3, 6), (4, 5), (5, 9), (6, 0), (7, 7), (8, 2), (9, 4)]\n",
      "8 -> T^8 -> [(0, 3), (1, 1), (2, 0), (3, 8), (4, 4), (5, 5), (6, 2), (7, 7), (8, 6), (9, 9)]\n",
      "9 -> T^9 -> [(0, 0), (1, 1), (2, 2), (3, 3), (4, 9), (5, 4), (6, 6), (7, 7), (8, 8), (9, 5)]\n",
      "10 -> T^10 -> [(0, 2), (1, 1), (2, 6), (3, 0), (4, 5), (5, 9), (6, 8), (7, 7), (8, 3), (9, 4)]\n",
      "11 -> T^11 -> [(0, 6), (1, 1), (2, 8), (3, 2), (4, 4), (5, 5), (6, 3), (7, 7), (8, 0), (9, 9)]\n",
      "12 -> T^12 -> [(0, 8), (1, 1), (2, 3), (3, 6), (4, 9), (5, 4), (6, 0), (7, 7), (8, 2), (9, 5)]\n",
      "13 -> T^13 -> [(0, 3), (1, 1), (2, 0), (3, 8), (4, 5), (5, 9), (6, 2), (7, 7), (8, 6), (9, 4)]\n",
      "14 -> T^14 -> [(0, 0), (1, 1), (2, 2), (3, 3), (4, 4), (5, 5), (6, 6), (7, 7), (8, 8), (9, 9)]\n"
     ]
    }
   ],
   "source": [
    "for i in range(len(Tn)):\n",
    "    print(i, '->', 'T^{}'.format(i), '->', fom.make_T_n(T, i))"
   ]
  },
  {
   "cell_type": "code",
   "execution_count": 149,
   "metadata": {
    "collapsed": false
   },
   "outputs": [
    {
     "name": "stdout",
     "output_type": "stream",
     "text": [
      "0 -> T^0(4) -> 9\n",
      "1 -> T^1(4) -> 5\n",
      "2 -> T^2(4) -> 4\n",
      "3 -> T^3(4) -> 9\n",
      "4 -> T^4(4) -> 5\n",
      "5 -> T^5(4) -> 4\n",
      "6 -> T^6(4) -> 9\n",
      "7 -> T^7(4) -> 5\n",
      "8 -> T^8(4) -> 4\n",
      "9 -> T^9(4) -> 9\n",
      "10 -> T^10(4) -> 5\n",
      "11 -> T^11(4) -> 4\n",
      "12 -> T^12(4) -> 9\n",
      "13 -> T^13(4) -> 5\n",
      "14 -> T^14(4) -> 4\n"
     ]
    }
   ],
   "source": [
    "s = 4\n",
    "for i in range(len(Tn)):\n",
    "    print(i, '->', 'T^{}({})'.format(i,s), '->', fom.evaluate_mapping(fom.make_T_n(T, i), s))"
   ]
  },
  {
   "cell_type": "code",
   "execution_count": 142,
   "metadata": {
    "collapsed": false
   },
   "outputs": [
    {
     "name": "stdout",
     "output_type": "stream",
     "text": [
      "[[0, 2, 6, 8, 3], [1], [2, 6, 8, 3, 0], [3, 0, 2, 6, 8], [4, 9, 5], [5, 4, 9], [6, 8, 3, 0, 2], [7], [8, 3, 0, 2, 6], [9, 5, 4]]\n"
     ]
    }
   ],
   "source": [
    "all_traj = []\n",
    "for s in S:\n",
    "    traj_s = [s]\n",
    "    next_s = fom.evaluate_mapping(T, traj_s[-1])\n",
    "    while s != next_s:\n",
    "        traj_s.append(next_s)\n",
    "        next_s = fom.evaluate_mapping(T, traj_s[-1])  \n",
    "    all_traj.append(traj_s)\n",
    "print(all_traj)"
   ]
  },
  {
   "cell_type": "code",
   "execution_count": null,
   "metadata": {
    "collapsed": false
   },
   "outputs": [],
   "source": []
  }
 ],
 "metadata": {
  "kernelspec": {
   "display_name": "Python 2",
   "language": "python",
   "name": "python2"
  },
  "language_info": {
   "codemirror_mode": {
    "name": "ipython",
    "version": 2
   },
   "file_extension": ".py",
   "mimetype": "text/x-python",
   "name": "python",
   "nbconvert_exporter": "python",
   "pygments_lexer": "ipython2",
   "version": "2.7.11"
  }
 },
 "nbformat": 4,
 "nbformat_minor": 0
}

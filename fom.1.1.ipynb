{
 "cells": [
  {
   "cell_type": "markdown",
   "metadata": {},
   "source": [
    "# Fundamentals of Measurement and Representation of Natural Systems"
   ]
  },
  {
   "cell_type": "markdown",
   "metadata": {},
   "source": [
    "## by Robert Rosen"
   ]
  },
  {
   "cell_type": "markdown",
   "metadata": {},
   "source": [
    "This notebook is an accompaniment to Chapter 1 of Robert Rosen's Fundamentals of Measurement and Representation of Natural Systems (FOM). It represents an attempt to understand some of the concepts contained in this book. It is hoped that this work may provide others with an introduction to Rosen's book and some of the ideas surrounding equivalence relations, as well. The section headings used correspond to those in FOM. "
   ]
  },
  {
   "cell_type": "markdown",
   "metadata": {},
   "source": [
    "The main goal is a correct and transparent presentation of the underlying ideas. "
   ]
  },
  {
   "cell_type": "markdown",
   "metadata": {},
   "source": [
    "You should install the PartitionSets Python library, see https://pypi.python.org/pypi/PartitionSets/0.1.1\n",
    "\n",
    "```$ pip install PartitionSets```"
   ]
  },
  {
   "cell_type": "markdown",
   "metadata": {},
   "source": [
    "We need Python's random library. Also, a library of custom functions, 'fom.py', has been written to facilitate the work below."
   ]
  },
  {
   "cell_type": "code",
   "execution_count": 55,
   "metadata": {
    "collapsed": false
   },
   "outputs": [],
   "source": [
    "import random, fom"
   ]
  },
  {
   "cell_type": "markdown",
   "metadata": {},
   "source": [
    "## Chapter 1, Mathematical Background"
   ]
  },
  {
   "cell_type": "markdown",
   "metadata": {},
   "source": [
    "### 1.1 Definitions and Examples"
   ]
  },
  {
   "cell_type": "markdown",
   "metadata": {},
   "source": [
    "#### Definition 1.1.1"
   ]
  },
  {
   "cell_type": "markdown",
   "metadata": {},
   "source": [
    "Here we define a set S, build its cartesian product S x S, and show a relation. Note that we probably don't want a set with more than 5-6 items, otherwise some of computations below become too intensive. "
   ]
  },
  {
   "cell_type": "code",
   "execution_count": 10,
   "metadata": {
    "collapsed": false
   },
   "outputs": [
    {
     "name": "stdout",
     "output_type": "stream",
     "text": [
      "[('e', 'a'), ('a', 'b'), ('d', 'c'), ('e', 'd'), ('c', 'd'), ('c', 'b'), ('a', 'd'), ('b', 'a'), ('d', 'e'), ('b', 'b'), ('d', 'd'), ('b', 'd'), ('e', 'b'), ('e', 'e'), ('c', 'e'), ('e', 'c'), ('c', 'a'), ('d', 'b'), ('a', 'e')]\n"
     ]
    }
   ],
   "source": [
    "S = ['a', 'b', 'c', 'd', 'e']\n",
    "cartesian_product = fom.make_cartesian_product(S, S)\n",
    "R1 = fom.make_random_relation(cartesian_product)\n",
    "print(R1)"
   ]
  },
  {
   "cell_type": "markdown",
   "metadata": {},
   "source": [
    "Check whether 2 of the elements from S are related to one another via R1."
   ]
  },
  {
   "cell_type": "code",
   "execution_count": 11,
   "metadata": {
    "collapsed": false
   },
   "outputs": [
    {
     "data": {
      "text/plain": [
       "False"
      ]
     },
     "execution_count": 11,
     "metadata": {},
     "output_type": "execute_result"
    }
   ],
   "source": [
    "fom.s1_related_to_s2('b', 'e', R1)"
   ]
  },
  {
   "cell_type": "markdown",
   "metadata": {},
   "source": [
    "#### Definition 1.1.2"
   ]
  },
  {
   "cell_type": "markdown",
   "metadata": {},
   "source": [
    "Make all of the equivalence relations on S. Pick one and print it.\n",
    "\n",
    "You probably don't want to do this if S has more than 5 elements. Takes too long to make all equivalence relations.\n",
    "\n",
    "There is a routine in fom that allows one to make a random equivalence relation, without making all equivalence relations. The routine is fom.make_random_equivalence_relation(S)."
   ]
  },
  {
   "cell_type": "code",
   "execution_count": 12,
   "metadata": {
    "collapsed": false
   },
   "outputs": [
    {
     "name": "stdout",
     "output_type": "stream",
     "text": [
      "[('a', 'a'), ('a', 'c'), ('b', 'b'), ('c', 'a'), ('c', 'c'), ('d', 'd'), ('e', 'e')]\n"
     ]
    }
   ],
   "source": [
    "equivalence_relations = fom.make_equivalence_relations(S)\n",
    "ER1 = random.choice(equivalence_relations)\n",
    "print(ER1)"
   ]
  },
  {
   "cell_type": "markdown",
   "metadata": {},
   "source": [
    "Check to see that ER1 satisfies the conditions for an equivalence relation (reflexive, symmetric, transitive)."
   ]
  },
  {
   "cell_type": "code",
   "execution_count": 13,
   "metadata": {
    "collapsed": false
   },
   "outputs": [
    {
     "name": "stdout",
     "output_type": "stream",
     "text": [
      "reflexive? True\n",
      "symmetric? True\n",
      "transitive? True\n"
     ]
    }
   ],
   "source": [
    "print('reflexive? {}'.format(fom.check_reflexive(S, ER1)))\n",
    "print('symmetric? {}'.format(fom.check_symmetric(ER1)))\n",
    "print('transitive? {}'.format(fom.check_transitive(ER1)))"
   ]
  },
  {
   "cell_type": "markdown",
   "metadata": {},
   "source": [
    "By way of contrast, the relation R1 defined above will probably not be an equivalence relation (it will probably fail on one or more of the conditions)."
   ]
  },
  {
   "cell_type": "code",
   "execution_count": 14,
   "metadata": {
    "collapsed": false
   },
   "outputs": [
    {
     "name": "stdout",
     "output_type": "stream",
     "text": [
      "reflexive? False\n",
      "symmetric? False\n",
      "transitive? False\n"
     ]
    }
   ],
   "source": [
    "print('reflexive? {}'.format(fom.check_reflexive(S, R1)))\n",
    "print('symmetric? {}'.format(fom.check_symmetric(R1)))\n",
    "print('transitive? {}'.format(fom.check_transitive(R1)))"
   ]
  },
  {
   "cell_type": "markdown",
   "metadata": {},
   "source": [
    "ERRATUM: line just above Definition 1.1.3 on page 1 should read, \"c. If sRs' and s'Rs'', then sRs'' (i.e., R is transitive)\"."
   ]
  },
  {
   "cell_type": "markdown",
   "metadata": {},
   "source": [
    "#### Definition 1.1.3"
   ]
  },
  {
   "cell_type": "markdown",
   "metadata": {},
   "source": [
    "For each element in S, show the equivalence class under ER1, constructed above."
   ]
  },
  {
   "cell_type": "code",
   "execution_count": 15,
   "metadata": {
    "collapsed": false
   },
   "outputs": [
    {
     "name": "stdout",
     "output_type": "stream",
     "text": [
      "(a): ['a', 'c']\n",
      "(b): ['b']\n",
      "(c): ['a', 'c']\n",
      "(d): ['d']\n",
      "(e): ['e']\n"
     ]
    }
   ],
   "source": [
    "for s in S:\n",
    "    equivalence_class = []\n",
    "    for s1, s2 in ER1:\n",
    "        if s == s1:\n",
    "            equivalence_class.append(s2)\n",
    "    print('({}): {}'.format(s, equivalence_class))"
   ]
  },
  {
   "cell_type": "markdown",
   "metadata": {},
   "source": [
    "Can see from above that either (s) = (s') or [(s) intersection (s')] = empty set."
   ]
  },
  {
   "cell_type": "markdown",
   "metadata": {},
   "source": [
    "#### Definition 1.1.4"
   ]
  },
  {
   "cell_type": "markdown",
   "metadata": {},
   "source": [
    "Make all of the partitions of S. Pick one. Print it.\n",
    "\n",
    "As before, you probably don't want to do this if S has more than 5 elements. Takes too long to make all partitions.\n",
    "\n",
    "If you want to make a random partition, without making all partitions, you could use the following two steps.\n",
    "\n",
    "step 1: R = fom.make_random_equivalence_relation(S)\n",
    "\n",
    "step 2: P = fom.find_partition_from_equivalence_relation(R)"
   ]
  },
  {
   "cell_type": "code",
   "execution_count": 16,
   "metadata": {
    "collapsed": false
   },
   "outputs": [
    {
     "name": "stdout",
     "output_type": "stream",
     "text": [
      "[['a'], ['b', 'c', 'd'], ['e']]\n"
     ]
    }
   ],
   "source": [
    "partitions = fom.make_partitions(S)\n",
    "P1 = random.choice(partitions)\n",
    "print(P1)"
   ]
  },
  {
   "cell_type": "markdown",
   "metadata": {},
   "source": [
    "Can see how P1 is a decomposition of S into subsets (i.e., blocks of the partition) such that the definition is satisfied.\n",
    "\n",
    "Now show how ER1 corresponds to a partition."
   ]
  },
  {
   "cell_type": "code",
   "execution_count": 17,
   "metadata": {
    "collapsed": false
   },
   "outputs": [
    {
     "name": "stdout",
     "output_type": "stream",
     "text": [
      "[('a', 'a'), ('a', 'c'), ('b', 'b'), ('c', 'a'), ('c', 'c'), ('d', 'd'), ('e', 'e')]\n",
      "corresponds to\n",
      "[['a', 'c'], ['b'], ['d'], ['e']]\n"
     ]
    }
   ],
   "source": [
    "P2 = fom.find_partition_from_equivalence_relation(ER1)\n",
    "print(ER1)\n",
    "print('corresponds to')\n",
    "print(P2)"
   ]
  },
  {
   "cell_type": "markdown",
   "metadata": {},
   "source": [
    "Now show how partition P1 corresponds to an equivalence relation. Also check to make sure this equivalence relation satisfies the reflexive, symmetric, and transitive properties."
   ]
  },
  {
   "cell_type": "code",
   "execution_count": 18,
   "metadata": {
    "collapsed": false
   },
   "outputs": [
    {
     "name": "stdout",
     "output_type": "stream",
     "text": [
      "[['a'], ['b', 'c', 'd'], ['e']]\n",
      "corresponds to\n",
      "[('a', 'a'), ('b', 'b'), ('b', 'c'), ('b', 'd'), ('c', 'b'), ('c', 'c'), ('c', 'd'), ('d', 'b'), ('d', 'c'), ('d', 'd'), ('e', 'e')]\n",
      "reflexive? True\n",
      "symmetric? True\n",
      "transitive? True\n"
     ]
    }
   ],
   "source": [
    "ER2 = fom.find_equivalence_relation_from_partition(P1)\n",
    "print(P1)\n",
    "print('corresponds to')\n",
    "print(ER2)\n",
    "print('reflexive? {}'.format(fom.check_reflexive(S, ER2)))\n",
    "print('symmetric? {}'.format(fom.check_symmetric(ER2)))\n",
    "print('transitive? {}'.format(fom.check_transitive(ER2)))"
   ]
  },
  {
   "cell_type": "markdown",
   "metadata": {},
   "source": [
    "#### Lemma 1.1.1"
   ]
  },
  {
   "cell_type": "markdown",
   "metadata": {},
   "source": [
    "As a check, go through all the equivalence relations. For each one, make the corresponding partition. Then for that partition, make the corresponding equivalence relation. See if you get the original equivalence relation back. Could go the other way, too: for each partition, get the corresponding equivalence relation, turn that into the corresponding partition, see if it is the same as the original partition."
   ]
  },
  {
   "cell_type": "code",
   "execution_count": 19,
   "metadata": {
    "collapsed": false
   },
   "outputs": [
    {
     "name": "stdout",
     "output_type": "stream",
     "text": [
      "True\n"
     ]
    }
   ],
   "source": [
    "one_to_one_correspondence = True\n",
    "for ER in equivalence_relations:\n",
    "    P = fom.find_partition_from_equivalence_relation(ER)\n",
    "    ER_check = fom.find_equivalence_relation_from_partition(P)\n",
    "    if ER != ER_check:\n",
    "        one_to_one_correspondence = False\n",
    "print(one_to_one_correspondence)"
   ]
  },
  {
   "cell_type": "markdown",
   "metadata": {},
   "source": [
    "In what follows, we often choose to show an equivalence relation as the associated partition, because it seems easier to quickly understand the relation between the elements of S in this context. But it is important to remember that an equivalence relation and its associated partition are not the same object; they cannot be simply interchanged (e.g., some of the procedures in 'fom' take equivalence relations as input, but will not work on partitions)."
   ]
  },
  {
   "cell_type": "markdown",
   "metadata": {},
   "source": [
    "#### Example 1.1.1"
   ]
  },
  {
   "cell_type": "markdown",
   "metadata": {},
   "source": [
    "For more information on mathematical \"mappings\", see http://en.wikipedia.org/wiki/Function_(mathematics).\n",
    "\n",
    "See especially the Definition section. In this wikipedia article, what is called a 'function' essentially corresponds to 'mapping' as used by Rosen.\n",
    "\n",
    "Define a set X. Make a mapping from S to X. Print it. This procedure is implemented in 'fom' as make_mapping."
   ]
  },
  {
   "cell_type": "code",
   "execution_count": 22,
   "metadata": {
    "collapsed": false
   },
   "outputs": [
    {
     "name": "stdout",
     "output_type": "stream",
     "text": [
      "[('a', 2), ('b', 1), ('c', 2), ('d', 1), ('e', 1)]\n"
     ]
    }
   ],
   "source": [
    "X = [1, 2, 3]\n",
    "f = []\n",
    "for s in S:\n",
    "    x = random.choice(X)\n",
    "    f.append((s, x))\n",
    "print(f)"
   ]
  },
  {
   "cell_type": "markdown",
   "metadata": {},
   "source": [
    "Now find the corresponding equivalence relation and partition."
   ]
  },
  {
   "cell_type": "code",
   "execution_count": 23,
   "metadata": {
    "collapsed": false
   },
   "outputs": [
    {
     "name": "stdout",
     "output_type": "stream",
     "text": [
      "[['a', 'c'], ['b', 'd', 'e']]\n"
     ]
    }
   ],
   "source": [
    "P3 = fom.find_partition_from_mapping(f)\n",
    "ER3 = fom.find_equivalence_relation_from_partition(P3)\n",
    "print(P3)"
   ]
  },
  {
   "cell_type": "markdown",
   "metadata": {},
   "source": [
    "ER3 is the equivalence relation induced by f."
   ]
  },
  {
   "cell_type": "code",
   "execution_count": 24,
   "metadata": {
    "collapsed": false
   },
   "outputs": [
    {
     "name": "stdout",
     "output_type": "stream",
     "text": [
      "[('a', 'a'), ('a', 'c'), ('b', 'b'), ('b', 'd'), ('b', 'e'), ('c', 'a'), ('c', 'c'), ('d', 'b'), ('d', 'd'), ('d', 'e'), ('e', 'b'), ('e', 'd'), ('e', 'e')]\n"
     ]
    }
   ],
   "source": [
    "print(ER3)"
   ]
  },
  {
   "cell_type": "markdown",
   "metadata": {},
   "source": [
    "#### Definition 1.1.5"
   ]
  },
  {
   "cell_type": "markdown",
   "metadata": {},
   "source": [
    "Make all the automorphisms of S. Pick one. Print it.\n",
    "\n",
    "As above, probably don't want to do this if S has more than 5-6 elements. Can instead use fom.make_random_automorphism(S)"
   ]
  },
  {
   "cell_type": "code",
   "execution_count": 25,
   "metadata": {
    "collapsed": false
   },
   "outputs": [
    {
     "name": "stdout",
     "output_type": "stream",
     "text": [
      "[('a', 'c'), ('b', 'd'), ('c', 'e'), ('d', 'b'), ('e', 'a')]\n"
     ]
    }
   ],
   "source": [
    "automorphisms = fom.make_automorphisms(S)\n",
    "A1 = random.choice(automorphisms)\n",
    "print(A1)"
   ]
  },
  {
   "cell_type": "markdown",
   "metadata": {},
   "source": [
    "For more information on mathematical 'groups', see http://en.wikipedia.org/wiki/Group_(mathematics).\n",
    "\n",
    "Show that the automorphisms satisfy the group axioms. These procedures are availble from 'fom' library as check_group, but we show them here explicitly. First, closure. While we're doing this, see if we can find an element that could be the identity (for use below)."
   ]
  },
  {
   "cell_type": "code",
   "execution_count": 26,
   "metadata": {
    "collapsed": false
   },
   "outputs": [
    {
     "name": "stdout",
     "output_type": "stream",
     "text": [
      "True\n"
     ]
    }
   ],
   "source": [
    "closure = True\n",
    "for a1 in automorphisms:\n",
    "    for a2 in automorphisms:\n",
    "        if fom.compose_mappings(a1, a2) not in automorphisms:\n",
    "            closure = False\n",
    "        if fom.compose_mappings(a1, a2) == a1:\n",
    "            possible_identity = a2\n",
    "print(closure)"
   ]
  },
  {
   "cell_type": "markdown",
   "metadata": {},
   "source": [
    "Next, associativity. This works out to be true, but is computationally intensive. So we comment it out for now."
   ]
  },
  {
   "cell_type": "code",
   "execution_count": 27,
   "metadata": {
    "collapsed": false
   },
   "outputs": [
    {
     "name": "stdout",
     "output_type": "stream",
     "text": [
      "True\n"
     ]
    }
   ],
   "source": [
    "associative = True\n",
    "#for a1 in automorphisms:\n",
    "#    for a2 in automorphisms:\n",
    "#        for a3 in automorphisms:\n",
    "#            if fom.compose_mappings(a1, fom.compose_mappings(a2, a3)) != fom.compose_mappings(fom.compose_mappings(a1, a2), a3):\n",
    "#                associative = False\n",
    "print(associative)                "
   ]
  },
  {
   "cell_type": "markdown",
   "metadata": {},
   "source": [
    "Next, show that we have an identity. Use the \"possible identity\" found above, then check it with the other automorphisms."
   ]
  },
  {
   "cell_type": "code",
   "execution_count": 28,
   "metadata": {
    "collapsed": false
   },
   "outputs": [
    {
     "name": "stdout",
     "output_type": "stream",
     "text": [
      "True\n",
      "[('a', 'a'), ('b', 'b'), ('c', 'c'), ('d', 'd'), ('e', 'e')]\n"
     ]
    }
   ],
   "source": [
    "identity_exists = True\n",
    "for a in automorphisms:\n",
    "    if fom.compose_mappings(a, possible_identity) != a:\n",
    "        identity_exists = False\n",
    "if identity_exists:\n",
    "    identity = possible_identity\n",
    "print(identity_exists)\n",
    "print(identity)"
   ]
  },
  {
   "cell_type": "markdown",
   "metadata": {},
   "source": [
    "Finally, show that each element has an inverse."
   ]
  },
  {
   "cell_type": "code",
   "execution_count": 29,
   "metadata": {
    "collapsed": false
   },
   "outputs": [
    {
     "name": "stdout",
     "output_type": "stream",
     "text": [
      "True\n"
     ]
    }
   ],
   "source": [
    "inverse_exists = True\n",
    "for a1 in automorphisms:\n",
    "    found_identity = False\n",
    "    for a2 in automorphisms:\n",
    "        if fom.compose_mappings(a1, a2) == identity and fom.compose_mappings(a2, a1) == identity:\n",
    "            found_identity = True\n",
    "            break\n",
    "    if found_identity == False:\n",
    "        inverse_exists = False\n",
    "        break\n",
    "print(inverse_exists)"
   ]
  },
  {
   "cell_type": "markdown",
   "metadata": {},
   "source": [
    "#### Example 1.1.2"
   ]
  },
  {
   "cell_type": "markdown",
   "metadata": {},
   "source": [
    "Make all the subgroups of automorphisms. Pick one. Print it.\n",
    "\n",
    "If you just need one subgroup, can avoid making all subgroups by using fom.make_random_subgroup_of_automorphisms(S)"
   ]
  },
  {
   "cell_type": "code",
   "execution_count": 30,
   "metadata": {
    "collapsed": false
   },
   "outputs": [
    {
     "name": "stdout",
     "output_type": "stream",
     "text": [
      "[[('a', 'b'), ('b', 'a'), ('c', 'd'), ('d', 'e'), ('e', 'c')], [('a', 'a'), ('b', 'b'), ('c', 'e'), ('d', 'c'), ('e', 'd')], [('a', 'b'), ('b', 'a'), ('c', 'c'), ('d', 'd'), ('e', 'e')], [('a', 'a'), ('b', 'b'), ('c', 'd'), ('d', 'e'), ('e', 'c')], [('a', 'b'), ('b', 'a'), ('c', 'e'), ('d', 'c'), ('e', 'd')], [('a', 'a'), ('b', 'b'), ('c', 'c'), ('d', 'd'), ('e', 'e')]]\n"
     ]
    }
   ],
   "source": [
    "subgroups = fom.make_all_cyclic_subgroups(automorphisms)\n",
    "G1 = random.choice(subgroups)\n",
    "print(G1)"
   ]
  },
  {
   "cell_type": "markdown",
   "metadata": {},
   "source": [
    "Check whether G1 satisfies the group axioms."
   ]
  },
  {
   "cell_type": "code",
   "execution_count": 31,
   "metadata": {
    "collapsed": false
   },
   "outputs": [
    {
     "name": "stdout",
     "output_type": "stream",
     "text": [
      "True\n"
     ]
    }
   ],
   "source": [
    "print(fom.check_group(G1))"
   ]
  },
  {
   "cell_type": "markdown",
   "metadata": {},
   "source": [
    "Print the orbits of G."
   ]
  },
  {
   "cell_type": "code",
   "execution_count": 32,
   "metadata": {
    "collapsed": false
   },
   "outputs": [
    {
     "name": "stdout",
     "output_type": "stream",
     "text": [
      "['a', 'b']\n",
      "['c', 'd', 'e']\n"
     ]
    }
   ],
   "source": [
    "for block in fom.find_partition_from_cyclic_subgroup(G1):\n",
    "    print(block)"
   ]
  },
  {
   "cell_type": "markdown",
   "metadata": {},
   "source": [
    "#### Lemma 1.1.2"
   ]
  },
  {
   "cell_type": "markdown",
   "metadata": {},
   "source": [
    "Pick an equivalence relation, ER1. Make a mapping F1 such that \"the equivalence relation induced by F1\" = ER1. This procedure is availble from 'fom' library as make_mapping_corresponding_to_equivalence_relation, but we show it here explicitly."
   ]
  },
  {
   "cell_type": "code",
   "execution_count": 33,
   "metadata": {
    "collapsed": false
   },
   "outputs": [
    {
     "name": "stdout",
     "output_type": "stream",
     "text": [
      "[('a', 'a'), ('a', 'd'), ('b', 'b'), ('c', 'c'), ('d', 'a'), ('d', 'd'), ('e', 'e')]\n"
     ]
    }
   ],
   "source": [
    "ER1 = random.choice(equivalence_relations)\n",
    "print(ER1)"
   ]
  },
  {
   "cell_type": "code",
   "execution_count": 34,
   "metadata": {
    "collapsed": false
   },
   "outputs": [
    {
     "name": "stdout",
     "output_type": "stream",
     "text": [
      "[('a', 0), ('b', 1), ('c', 2), ('d', 0), ('e', 3)]\n"
     ]
    }
   ],
   "source": [
    "F1 = []\n",
    "partition = fom.find_partition_from_equivalence_relation(ER1)\n",
    "for i, block in enumerate(partition):\n",
    "    for s in block:\n",
    "        F1.append((s, i))\n",
    "F1.sort()\n",
    "print(F1)"
   ]
  },
  {
   "cell_type": "markdown",
   "metadata": {},
   "source": [
    "#### Lemma 1.1.3"
   ]
  },
  {
   "cell_type": "markdown",
   "metadata": {},
   "source": [
    "Using ER1 from above, find subgroup G1 such that ER1 = \"the relation associated with the G1\". This procedure is available from the 'fom' library as find_cyclic_subgroup_from_equivalence_relation, but here we show it explicitly.\n",
    "\n",
    "The procedure involves making a 'seed automorphism' for each block in the partition corresponding to ER1. This automorphism maps each element of the block to \"the next element to the right\" (it maps the right most element to the left most element; if there is only one element in the block, that element is mapped to itself). \n",
    "\n",
    "Then, the procedure make_cyclic_subgroup is called. This procedure composes the seed automorphism with itself to get a new automorphism. Then, the seed automorphism is composed with the new automorphism to make another automorphism. This process is repeated until we cycle back to the original automorphism. The list of all these autmorphisms makes the desired subgroup."
   ]
  },
  {
   "cell_type": "code",
   "execution_count": 35,
   "metadata": {
    "collapsed": false
   },
   "outputs": [
    {
     "name": "stdout",
     "output_type": "stream",
     "text": [
      "[[('a', 'd'), ('b', 'b'), ('c', 'c'), ('d', 'a'), ('e', 'e')], [('a', 'a'), ('b', 'b'), ('c', 'c'), ('d', 'd'), ('e', 'e')]]\n"
     ]
    }
   ],
   "source": [
    "seed_automorphism = []\n",
    "partition = fom.find_partition_from_equivalence_relation(ER1)\n",
    "for block in partition:\n",
    "    try:\n",
    "        for i in range(len(block)):\n",
    "            seed_automorphism.append((block[i], block[i+1]))\n",
    "    except:\n",
    "        seed_automorphism.append((block[-1], block[0]))\n",
    "seed_automorphism.sort()\n",
    "G1 = fom.make_cyclic_subgroup(seed_automorphism)\n",
    "print(G1)"
   ]
  },
  {
   "cell_type": "markdown",
   "metadata": {},
   "source": [
    "Finally, show ER1 = the relation associated with G1. We do this by converting ER1 and G1 to their corresponding partitions, then printing to see whether they are the same or not."
   ]
  },
  {
   "cell_type": "code",
   "execution_count": 36,
   "metadata": {
    "collapsed": false
   },
   "outputs": [
    {
     "name": "stdout",
     "output_type": "stream",
     "text": [
      "[['a', 'd'], ['b'], ['c'], ['e']]\n",
      "[['a', 'd'], ['b'], ['c'], ['e']]\n"
     ]
    }
   ],
   "source": [
    "print(fom.find_partition_from_equivalence_relation(ER1))\n",
    "print(fom.find_partition_from_cyclic_subgroup(G1))"
   ]
  },
  {
   "cell_type": "markdown",
   "metadata": {},
   "source": [
    "Can use all the subgroups of automorphisms to generate all possible equivalence relations on S. This is, in fact, how the 'fom' procedure make_equivalence_relations works. See below. "
   ]
  },
  {
   "cell_type": "code",
   "execution_count": 37,
   "metadata": {
    "collapsed": false
   },
   "outputs": [
    {
     "name": "stdout",
     "output_type": "stream",
     "text": [
      "52\n"
     ]
    }
   ],
   "source": [
    "automorphisms = fom.make_automorphisms(S) #uses itertools.permutations(S) from Python standard library\n",
    "subgroups = fom.make_all_cyclic_subgroups(automorphisms) #uses make_cyclic_subgroup, see above\n",
    "\n",
    "#in some cases, multiple subgroups correspond to the same equivalence relation, \n",
    "#so the initial list will be 'redundant' (containing repeated elements)\n",
    "equivalence_relations_redundant = []\n",
    "\n",
    "for subgroup in subgroups:\n",
    "    #get the equivalence relation corresponding to this subgroup and add to list\n",
    "    er = fom.find_equivalence_relation_from_cyclic_subgroup(subgroup)\n",
    "    equivalence_relations_redundant.append(er)\n",
    "    \n",
    "#remove redundant cases and sort the list   \n",
    "equivalence_relations = fom.remove_redundant_items(equivalence_relations_redundant)\n",
    "equivalence_relations.sort()\n",
    "\n",
    "#as a check, print the number of equivalence relations just calculated for the set S\n",
    "#this number should be a 'Bell Number', see http://en.wikipedia.org/wiki/Bell_number\n",
    "#there are many interesting formulas to calculate Bell Numbers\n",
    "print(len(equivalence_relations))"
   ]
  },
  {
   "cell_type": "markdown",
   "metadata": {},
   "source": [
    "There is another procedure in 'fom', which does the same thing and is called make_equivalence_relations2. This procedure uses a 3rd party library (partitionsets, see https://pypi.python.org/pypi/PartitionSets/0.1.1); it is much faster than make_equivalence_relations. But the partitionsets library needs to be installed first.\n",
    "\n",
    "Can certainly represent or realize any arbitrary equivalence relation as arising from a mapping of S into some suitable set. This is implemented in 'fom' as the procedure make_mapping_corresponding_to_equivalence_relation. This procedure makes a mapping from S to the integers [0, 1, 2, ...]. It uses integers starting with 0, and up to the highest integer needed to represent the number of equivalence classes in the equivalence relation."
   ]
  },
  {
   "cell_type": "markdown",
   "metadata": {},
   "source": [
    "#### Definition 1.1.6"
   ]
  },
  {
   "cell_type": "markdown",
   "metadata": {},
   "source": [
    "It's probably easiest to show the quotient set by showing the partition corresponding to an equivalence relation (actually, what we are calling the 'partition' is the quotient set of S under R, shown as a list)."
   ]
  },
  {
   "cell_type": "code",
   "execution_count": 39,
   "metadata": {
    "collapsed": false
   },
   "outputs": [
    {
     "name": "stdout",
     "output_type": "stream",
     "text": [
      "[['a', 'c', 'd'], ['b', 'e']]\n"
     ]
    }
   ],
   "source": [
    "ER1 = random.choice(equivalence_relations)\n",
    "P1 = fom.find_partition_from_equivalence_relation(ER1)\n",
    "print(P1)"
   ]
  },
  {
   "cell_type": "markdown",
   "metadata": {},
   "source": [
    "#### Definition 1.1.7"
   ]
  },
  {
   "cell_type": "markdown",
   "metadata": {},
   "source": [
    "Make the natural mapping, PI, corresponding to ER1. Print it."
   ]
  },
  {
   "cell_type": "code",
   "execution_count": 40,
   "metadata": {
    "collapsed": false
   },
   "outputs": [
    {
     "name": "stdout",
     "output_type": "stream",
     "text": [
      "[('a', ['a', 'c', 'd']), ('b', ['b', 'e']), ('c', ['a', 'c', 'd']), ('d', ['a', 'c', 'd']), ('e', ['b', 'e'])]\n"
     ]
    }
   ],
   "source": [
    "PI = fom.make_natural_map(ER1)\n",
    "print(PI)"
   ]
  },
  {
   "cell_type": "markdown",
   "metadata": {},
   "source": [
    "#### Remark"
   ]
  },
  {
   "cell_type": "markdown",
   "metadata": {},
   "source": [
    "As noted by Rosen in the remark, if you were given this mapping without knowing ER1, you could figure out what ER1 is (i.e., ER1 is realized by this mapping), by iterating through the pairs above and re-creating the equivalence relation. For example, starting with the first pair ('a', ['a', 'b']), add the following pairs to the equivalence relation: ('a', 'a') and ('a', 'b'). Continue in the same way for all pairs in PI. In the end, you would have ER1."
   ]
  },
  {
   "cell_type": "markdown",
   "metadata": {},
   "source": [
    "#### Lemma 1.1.4"
   ]
  },
  {
   "cell_type": "markdown",
   "metadata": {},
   "source": [
    "Make a mapping, f: S -> X. Get the associated partition P (which corresponds to an equivalence relation, ER). Show the one-one correspondence between f(S) and and the quotient set (the set of equivalence classes of S under R). We will call this correspondence f_bar (following Rosen's use in the next Remark)."
   ]
  },
  {
   "cell_type": "code",
   "execution_count": 41,
   "metadata": {
    "collapsed": false
   },
   "outputs": [
    {
     "name": "stdout",
     "output_type": "stream",
     "text": [
      "('mapping f:', [('a', 3), ('b', 1), ('c', 3), ('d', 1), ('e', 2)])\n",
      "('partition corresponding to f:', [['a', 'c'], ['b', 'd'], ['e']])\n",
      "('correspondence between f(S) and quotient set:', [(1, ['b', 'd']), (2, ['e']), (3, ['a', 'c'])])\n"
     ]
    }
   ],
   "source": [
    "X = [1, 2, 3]\n",
    "f = fom.make_mapping(S, X)\n",
    "P = fom.find_partition_from_mapping(f)\n",
    "print('mapping f:', f)\n",
    "print('partition corresponding to f:', P)\n",
    "f_bar = []\n",
    "for block in P:\n",
    "    for s, x in f:\n",
    "        if s in block:\n",
    "            f_bar.append((x, block))\n",
    "            break\n",
    "f_bar.sort()\n",
    "print('correspondence between f(S) and quotient set:', f_bar)"
   ]
  },
  {
   "cell_type": "markdown",
   "metadata": {},
   "source": [
    "#### Remark"
   ]
  },
  {
   "cell_type": "markdown",
   "metadata": {},
   "source": [
    "Already have f and f_bar. Make the natural mapping PI corresponding to this mapping. Then show that the diagram commutes, by showing that you arrive at the same endpoint via either route."
   ]
  },
  {
   "cell_type": "code",
   "execution_count": 42,
   "metadata": {
    "collapsed": false
   },
   "outputs": [
    {
     "name": "stdout",
     "output_type": "stream",
     "text": [
      "[('a', ['a', 'c']), ('b', ['b', 'd']), ('c', ['a', 'c']), ('d', ['b', 'd']), ('e', ['e'])]\n",
      "[('a', ['a', 'c']), ('b', ['b', 'd']), ('c', ['a', 'c']), ('d', ['b', 'd']), ('e', ['e'])]\n"
     ]
    }
   ],
   "source": [
    "ER = fom.find_equivalence_relation_from_partition(P)\n",
    "PI = fom.make_natural_map(ER)\n",
    "f_compose_f_bar = fom.compose_mappings(f_bar, f)\n",
    "print(PI)\n",
    "print(f_compose_f_bar)"
   ]
  },
  {
   "cell_type": "markdown",
   "metadata": {},
   "source": [
    "#### Remark"
   ]
  },
  {
   "cell_type": "markdown",
   "metadata": {},
   "source": [
    "Make phi_bar: S/R -> Y. Then use the natural map PI to lift phi_bar to phi: S -> Y."
   ]
  },
  {
   "cell_type": "code",
   "execution_count": 43,
   "metadata": {
    "collapsed": false
   },
   "outputs": [
    {
     "name": "stdout",
     "output_type": "stream",
     "text": [
      "('phi bar:', [(['a', 'c'], '&'), (['b', 'd'], '@'), (['e'], '&')])\n",
      "('phi bar lifted to mapping phi (via natural map):', [('a', '&'), ('b', '@'), ('c', '&'), ('d', '@'), ('e', '&')])\n"
     ]
    }
   ],
   "source": [
    "Y = ['*', '@', '&']\n",
    "phi_bar = fom.make_mapping(P, Y)\n",
    "print('phi bar:', phi_bar)\n",
    "phi = []\n",
    "for s, block1 in PI:\n",
    "    for block2, y in phi_bar:\n",
    "        if block1 == block2:\n",
    "            phi.append((s, y))\n",
    "            break\n",
    "phi.sort()\n",
    "print('phi bar lifted to mapping phi (via natural map):', phi)"
   ]
  },
  {
   "cell_type": "markdown",
   "metadata": {},
   "source": [
    "#### Remark"
   ]
  },
  {
   "cell_type": "markdown",
   "metadata": {},
   "source": [
    "As an example of 'structure on X', note that the elements of X, i.e., [1, 2, 3], can be totally ordered ('1' comes before '2', etc.). Can pull this structure to S/R_f, by putting these classes in the order specified by the correspondence to X. Can also at least partially order the elements of S via the PI mapping.\n",
    "\n",
    "Here is the structure on X (the elements in order)."
   ]
  },
  {
   "cell_type": "code",
   "execution_count": 44,
   "metadata": {
    "collapsed": false
   },
   "outputs": [
    {
     "name": "stdout",
     "output_type": "stream",
     "text": [
      "[1, 2, 3]\n"
     ]
    }
   ],
   "source": [
    "X.sort()\n",
    "print(X)"
   ]
  },
  {
   "cell_type": "markdown",
   "metadata": {},
   "source": [
    "Here is how this structure on X is pulled to S/R_f, and then back to S. Note that the order of the elements in S/R_f established by the structure on X is not necessarily the order you would get if you sorted these elements alpha-numerically. This is what we mean by 'a structure on X is pulled to S/R_f'."
   ]
  },
  {
   "cell_type": "code",
   "execution_count": 45,
   "metadata": {
    "collapsed": false
   },
   "outputs": [
    {
     "name": "stdout",
     "output_type": "stream",
     "text": [
      "1: ['b', 'd'] b, d\n",
      "2: ['e'] e\n",
      "3: ['a', 'c'] a, c\n"
     ]
    }
   ],
   "source": [
    "for x in X: \n",
    "    for x1, block in f_bar:\n",
    "        if x == x1:\n",
    "            print('{}: {} {}'.format(x, block, ', '.join(block)))\n",
    "            break"
   ]
  },
  {
   "cell_type": "markdown",
   "metadata": {},
   "source": [
    "#### Definition 1.1.8"
   ]
  },
  {
   "cell_type": "markdown",
   "metadata": {},
   "source": [
    "Pick 2 equivalence relations on S, ER1 and ER2. Check whether ER1 refines ER2 or vice versa. This procedure is implemented in 'fom' as s1_refines_s2 (returns either True or False)."
   ]
  },
  {
   "cell_type": "code",
   "execution_count": 51,
   "metadata": {
    "collapsed": false
   },
   "outputs": [
    {
     "name": "stdout",
     "output_type": "stream",
     "text": [
      "([['a'], ['b', 'e'], ['c'], ['d']], 'refines', [['a', 'b', 'e'], ['c', 'd']])\n",
      "([['a', 'b', 'e'], ['c', 'd']], 'refines', [['a', 'b', 'e'], ['c', 'd']])\n"
     ]
    }
   ],
   "source": [
    "ER1 = random.choice(equivalence_relations)\n",
    "ER2 = random.choice(equivalence_relations)\n",
    "\n",
    "#does ER1 refine ER2?\n",
    "refines = True\n",
    "for s1, s2 in ER1:\n",
    "    if (s1, s2) not in ER2:\n",
    "        refines = False\n",
    "if refines:        \n",
    "    print(fom.get_quotient_set(ER1), 'refines', fom.get_quotient_set(ER2))\n",
    "\n",
    "#does ER2 refine ER1?\n",
    "refines = True\n",
    "for s1, s2 in ER2:\n",
    "    if (s1, s2) not in ER1:\n",
    "        refines = False\n",
    "if refines:\n",
    "    print(fom.get_quotient_set(ER2), 'refines', fom.get_quotient_set(ER1))\n",
    "\n",
    "#note that ER1 refines itself\n",
    "refines = True\n",
    "for s1, s2 in ER1:\n",
    "    if (s1, s2) not in ER1:\n",
    "        refines = False\n",
    "if refines:\n",
    "    print(fom.get_quotient_set(ER1), 'refines', fom.get_quotient_set(ER1))"
   ]
  },
  {
   "cell_type": "markdown",
   "metadata": {},
   "source": [
    "#### Lemma 1.1.5"
   ]
  },
  {
   "cell_type": "markdown",
   "metadata": {},
   "source": [
    "Get 2 equivalence relations on S, ER1 and ER2, where ER1 refines ER2. Then find the mapping sigma."
   ]
  },
  {
   "cell_type": "code",
   "execution_count": 52,
   "metadata": {
    "collapsed": false
   },
   "outputs": [
    {
     "name": "stdout",
     "output_type": "stream",
     "text": [
      "[['a'], ['b', 'c'], ['d'], ['e']]\n",
      "[['a'], ['b', 'c', 'e'], ['d']]\n",
      "[(['a'], ['a']), (['b', 'c'], ['b', 'c', 'e']), (['d'], ['d']), (['e'], ['b', 'c', 'e'])]\n"
     ]
    }
   ],
   "source": [
    "ER1 = random.choice(equivalence_relations)\n",
    "ER2 = random.choice(equivalence_relations)\n",
    "#keep picking ER2 until you find one such that ER1 refines ER2 and ER1 not equal to ER2\n",
    "while not fom.er1_refines_er2(ER1, ER2) or ER1 == ER2:\n",
    "    ER2 = random.choice(equivalence_relations)\n",
    "P1 = fom.find_partition_from_equivalence_relation(ER1)\n",
    "P2 = fom.find_partition_from_equivalence_relation(ER2)\n",
    "sigma = []\n",
    "for block1 in P1:\n",
    "    for block2 in P2:\n",
    "        if block1[0] in block2:\n",
    "            sigma.append((block1, block2))\n",
    "            break\n",
    "sigma.sort()            \n",
    "print(P1)\n",
    "print(P2)\n",
    "print(sigma)"
   ]
  },
  {
   "cell_type": "markdown",
   "metadata": {},
   "source": [
    "#### Remark"
   ]
  },
  {
   "cell_type": "markdown",
   "metadata": {},
   "source": [
    "Below illustrates how sigma places an equivalence relation on S/R. We show the partition of S/R created by S/R' (called P_sigma). \n",
    "\n",
    "We show the partition, instead of the equivalence relation that corresponds to this partition, just for convenience: it's a little easier to interpret the partition than the equivalence relation. Of course, we could easily make the corresponding equivalence relation (see paragraph following Definition 1.1.4 in FOM).\n",
    "\n",
    "Note that, in this case, a partition of the block generally contains multiple subsets of S."
   ]
  },
  {
   "cell_type": "code",
   "execution_count": 53,
   "metadata": {
    "collapsed": false
   },
   "outputs": [
    {
     "name": "stdout",
     "output_type": "stream",
     "text": [
      "[[['a']], [['b', 'c'], ['e']], [['d']]]\n"
     ]
    }
   ],
   "source": [
    "#first we build an intermediate object, im_sigma;\n",
    "#this is a dictionary where the key is an equivalence class under S/R', y\n",
    "#the value is the list of equivalence classes in S/R that map to y under sigma\n",
    "im_sigma = {}\n",
    "for x, y in sigma:\n",
    "    if not str(y) in im_sigma:\n",
    "        im_sigma[str(y)] = []\n",
    "    im_sigma[str(y)].append(x)\n",
    "\n",
    "#now that we have a complete list for each y, put these lists together in P_sigma\n",
    "#the list of these lists is the partition on S/R created by sigma (another way of looking )\n",
    "P_sigma = []\n",
    "for y in im_sigma:\n",
    "    block = im_sigma[y]\n",
    "    P_sigma.append(block)\n",
    "P_sigma.sort()\n",
    "print(P_sigma)"
   ]
  },
  {
   "cell_type": "markdown",
   "metadata": {},
   "source": [
    "#### Definition 1.1.9"
   ]
  },
  {
   "cell_type": "markdown",
   "metadata": {},
   "source": [
    "Define a set X. Make a mapping f: S -> X. Find the associated equivalence relation, ERf. Find an equivalence relation on S, ER1, such that ER1 refines ERf. Print the partitions associated with f and ER1. \n",
    "\n",
    "This illustrates why f is called R-invariant. The values of f are constant on each equivalence class of ER1. Generally, more than one equivalence class of ER1 will map to a given value. If it happens that each equivalence class of ER1 maps to a distinct value under f, f is called a generator of ER1. This is true below if we take ERf as equal to ER1."
   ]
  },
  {
   "cell_type": "code",
   "execution_count": 54,
   "metadata": {
    "collapsed": false
   },
   "outputs": [
    {
     "name": "stdout",
     "output_type": "stream",
     "text": [
      "[['a', 'e'], ['b'], ['c', 'd']]\n",
      "[['a', 'e'], ['b'], ['c'], ['d']]\n"
     ]
    }
   ],
   "source": [
    "X = [1, 2, 3]\n",
    "f = fom.make_mapping(S, X)\n",
    "Pf = fom.find_partition_from_mapping(f)\n",
    "ERf = fom.find_equivalence_relation_from_partition(Pf)\n",
    "ER1 = random.choice(equivalence_relations)\n",
    "#keep picking until you find a refinement\n",
    "while not fom.er1_refines_er2(ER1, ERf):\n",
    "    ER1 = random.choice(equivalence_relations)\n",
    "P1 = fom.find_partition_from_equivalence_relation(ER1)\n",
    "print(Pf)\n",
    "print(P1)"
   ]
  },
  {
   "cell_type": "markdown",
   "metadata": {},
   "source": [
    "#### Lemma 1.1.6"
   ]
  },
  {
   "cell_type": "markdown",
   "metadata": {},
   "source": [
    "To get f and R such that f is a generator of R, let f = f above and R = ERf. Let R' = ER1. Print the corresponding partitions to see how f is an invariant of R'.\n",
    "\n",
    "So, f is an invariant of ER1. Make a refinement of ER1, called ER2. Print the partition of ER2 to show how f is an invariant for this, as well."
   ]
  },
  {
   "cell_type": "code",
   "execution_count": 47,
   "metadata": {
    "collapsed": false
   },
   "outputs": [
    {
     "name": "stdout",
     "output_type": "stream",
     "text": [
      "The mapping f,\n",
      "[('a', 1), ('b', 3), ('c', 2), ('d', 2), ('e', 1)]\n",
      "is a generator of\n",
      "[['a', 'e'], ['b'], ['c', 'd']]\n",
      "It is an invariant of\n",
      "[['a'], ['b'], ['c', 'd'], ['e']]\n",
      "and also its refinement\n",
      "[['a'], ['b'], ['c'], ['d'], ['e']]\n"
     ]
    }
   ],
   "source": [
    "#keep picking until you find a refinement\n",
    "ER2 = random.choice(equivalence_relations)\n",
    "while not fom.er1_refines_er2(ER2, ER1):\n",
    "    ER2 = random.choice(equivalence_relations)\n",
    "P2 = fom.find_partition_from_equivalence_relation(ER2)\n",
    "print('The mapping f,')\n",
    "print(f)\n",
    "print('is a generator of')\n",
    "print(Pf)\n",
    "print('It is an invariant of')\n",
    "print(P1)\n",
    "print('and also its refinement')\n",
    "print(P2)"
   ]
  },
  {
   "cell_type": "markdown",
   "metadata": {},
   "source": [
    "#### Remark"
   ]
  },
  {
   "cell_type": "markdown",
   "metadata": {},
   "source": [
    "Let's use the relations we've defined above. Let R1 = ERf, R2 = ER1, and R3 = ER2. Check reflexivity, antisymmetry, and transitivity using these relations. Could iterate through all the equivalence relations and check all possible.\n",
    "\n",
    "First, check reflexivity (is it true that an equivalence relation refines itself?)"
   ]
  },
  {
   "cell_type": "code",
   "execution_count": 48,
   "metadata": {
    "collapsed": false
   },
   "outputs": [
    {
     "name": "stdout",
     "output_type": "stream",
     "text": [
      "True\n"
     ]
    }
   ],
   "source": [
    "print(fom.er1_refines_er2(ERf, ERf))"
   ]
  },
  {
   "cell_type": "markdown",
   "metadata": {},
   "source": [
    "Next, check antisymmetry. To do this, let R1 = ER1. Then, choose R2 randomly from the possible choices (ERf, ER1, ER2). Check whether R1 refines R2 AND R2 refines R1. If not, then choose R2 again until the antisymmetry condition is satisfied. When you have an R2 such that the condition is satisfied, print R1 and R2. You should find that they are the same equivalence relation."
   ]
  },
  {
   "cell_type": "code",
   "execution_count": 49,
   "metadata": {
    "collapsed": false
   },
   "outputs": [
    {
     "name": "stdout",
     "output_type": "stream",
     "text": [
      "[('a', 'a'), ('b', 'b'), ('c', 'c'), ('c', 'd'), ('d', 'c'), ('d', 'd'), ('e', 'e')]\n",
      "[('a', 'a'), ('b', 'b'), ('c', 'c'), ('c', 'd'), ('d', 'c'), ('d', 'd'), ('e', 'e')]\n"
     ]
    }
   ],
   "source": [
    "ER_choices = [ERf, ER1, ER2]\n",
    "R1 = ER1\n",
    "R2 = random.choice(ER_choices)\n",
    "while not fom.er1_refines_er2(R1, R2) or not fom.er1_refines_er2(R2, R1):\n",
    "    R2 = random.choice(ER_choices)\n",
    "print(R1)\n",
    "print(R2)"
   ]
  },
  {
   "cell_type": "markdown",
   "metadata": {},
   "source": [
    "Finally, transitivity. We know that, by construction, ER1 refines ERf and ER2 refines ER1. Check whether ER2 refines ERf."
   ]
  },
  {
   "cell_type": "code",
   "execution_count": 50,
   "metadata": {
    "collapsed": false
   },
   "outputs": [
    {
     "name": "stdout",
     "output_type": "stream",
     "text": [
      "True\n"
     ]
    }
   ],
   "source": [
    "print(fom.er1_refines_er2(ER2, ERf))"
   ]
  },
  {
   "cell_type": "markdown",
   "metadata": {},
   "source": [
    "Can get the greatest (all of S x S) and least elements (equality relation) in the partially ordered set of all the equivalence relations."
   ]
  },
  {
   "cell_type": "code",
   "execution_count": 51,
   "metadata": {
    "collapsed": false
   },
   "outputs": [
    {
     "name": "stdout",
     "output_type": "stream",
     "text": [
      "[('a', 'a'), ('a', 'b'), ('a', 'c'), ('a', 'd'), ('a', 'e'), ('b', 'a'), ('b', 'b'), ('b', 'c'), ('b', 'd'), ('b', 'e'), ('c', 'a'), ('c', 'b'), ('c', 'c'), ('c', 'd'), ('c', 'e'), ('d', 'a'), ('d', 'b'), ('d', 'c'), ('d', 'd'), ('d', 'e'), ('e', 'a'), ('e', 'b'), ('e', 'c'), ('e', 'd'), ('e', 'e')]\n"
     ]
    }
   ],
   "source": [
    "ER_greatest = fom.find_greatest_element(equivalence_relations)\n",
    "print(ER_greatest)"
   ]
  },
  {
   "cell_type": "code",
   "execution_count": 52,
   "metadata": {
    "collapsed": false
   },
   "outputs": [
    {
     "name": "stdout",
     "output_type": "stream",
     "text": [
      "[('a', 'a'), ('b', 'b'), ('c', 'c'), ('d', 'd'), ('e', 'e')]\n"
     ]
    }
   ],
   "source": [
    "ER_least = fom.find_least_element(equivalence_relations)\n",
    "print(ER_least)"
   ]
  },
  {
   "cell_type": "markdown",
   "metadata": {},
   "source": [
    "#### Definition 1.1.10"
   ]
  },
  {
   "cell_type": "markdown",
   "metadata": {},
   "source": [
    "Choose 2 equivalence relations, ER1 and ER2. Calculate their intersection as defined, using procedure from 'fom'. Display ER1, ER2, and their intersection as the corresponding partitions."
   ]
  },
  {
   "cell_type": "code",
   "execution_count": 53,
   "metadata": {
    "collapsed": false
   },
   "outputs": [
    {
     "name": "stdout",
     "output_type": "stream",
     "text": [
      "[['a', 'c', 'e'], ['b', 'd']]\n",
      "[['a', 'c'], ['b', 'd', 'e']]\n",
      "[['a', 'c'], ['b', 'd'], ['e']]\n"
     ]
    }
   ],
   "source": [
    "ER1 = random.choice(equivalence_relations)\n",
    "ER2 = random.choice(equivalence_relations)\n",
    "ER3 = fom.calculate_er_intersection(ER1, ER2)\n",
    "print(fom.find_partition_from_equivalence_relation(ER1))\n",
    "print(fom.find_partition_from_equivalence_relation(ER2))\n",
    "print(fom.find_partition_from_equivalence_relation(ER3))"
   ]
  },
  {
   "cell_type": "markdown",
   "metadata": {},
   "source": [
    "#### Lemma 1.1.7"
   ]
  },
  {
   "cell_type": "markdown",
   "metadata": {},
   "source": [
    "Can see how the partition for ER3 above is obtained by forming the intersection of each equivalence class from ER1 with each equivalence class from ER2."
   ]
  },
  {
   "cell_type": "markdown",
   "metadata": {},
   "source": [
    "#### Definition 1.1.11"
   ]
  },
  {
   "cell_type": "markdown",
   "metadata": {},
   "source": [
    "Calculate union of ER1 and ER2 as defined, using procedure from 'fom'. Display ER1, ER2, and their union as the corresponding partitions."
   ]
  },
  {
   "cell_type": "code",
   "execution_count": 54,
   "metadata": {
    "collapsed": false
   },
   "outputs": [
    {
     "name": "stdout",
     "output_type": "stream",
     "text": [
      "[['a', 'd'], ['b', 'c'], ['e']]\n",
      "[['a'], ['b', 'c'], ['d', 'e']]\n",
      "[['a', 'd', 'e'], ['b', 'c']]\n"
     ]
    }
   ],
   "source": [
    "ER1 = random.choice(equivalence_relations)\n",
    "ER2 = random.choice(equivalence_relations)\n",
    "ER3 = fom.calculate_er_union(ER1, ER2)\n",
    "print(fom.find_partition_from_equivalence_relation(ER1))\n",
    "print(fom.find_partition_from_equivalence_relation(ER2))\n",
    "print(fom.find_partition_from_equivalence_relation(ER3))"
   ]
  },
  {
   "cell_type": "markdown",
   "metadata": {},
   "source": [
    "#### Lemma 1.1.8"
   ]
  },
  {
   "cell_type": "markdown",
   "metadata": {},
   "source": [
    "Find an equivalence relation, ER4, that is refined by ER1 and ER2 and is not equal to ER3 above. Can see that ER3 refines ER4, as stated in this Lemma."
   ]
  },
  {
   "cell_type": "code",
   "execution_count": 71,
   "metadata": {
    "collapsed": false
   },
   "outputs": [
    {
     "name": "stdout",
     "output_type": "stream",
     "text": [
      "[['a', 'd'], ['b', 'c'], ['e']]\n",
      "[['a'], ['b', 'c'], ['d', 'e']]\n",
      "[['a', 'd', 'e'], ['b', 'c']]\n",
      "[['a', 'b', 'c', 'd', 'e']]\n"
     ]
    }
   ],
   "source": [
    "ER4 = random.choice(equivalence_relations)\n",
    "while not fom.er1_refines_er2(ER1, ER4) or not fom.er1_refines_er2(ER2, ER4) or ER3 == ER4:\n",
    "    ER4 = random.choice(equivalence_relations)\n",
    "print(fom.find_partition_from_equivalence_relation(ER1))\n",
    "print(fom.find_partition_from_equivalence_relation(ER2))\n",
    "print(fom.find_partition_from_equivalence_relation(ER3))\n",
    "print(fom.find_partition_from_equivalence_relation(ER4))"
   ]
  },
  {
   "cell_type": "markdown",
   "metadata": {},
   "source": [
    "The paragraph after the proof of Lemma 1.1.8 talks abou the fact that the set of all equivalence relations along with the union and intersection operations forms a lattice. One way to visualize such a structure is a Hasse diagram, see http://en.wikipedia.org/wiki/Hasse_diagram ."
   ]
  },
  {
   "cell_type": "markdown",
   "metadata": {},
   "source": [
    "Below, we give examples of extending the operation of intersection to a collection of equivalence relations (this can also be done for the operation union, using the procedure from 'fom' called calculate_union_of_a_set_of_er).\n",
    "\n",
    "Make collection1 first, by grabbing 2 equivalence relations randomly out the set of all equivalence relations and calculating their intersection (intersection1). \n",
    "\n",
    "Next make collection2. The number of equivalence relations in this set is randomly chosen (a number between 1 and number_of_equivalence_relations). The equivalence relations are randomly chosen from the set of all equivalence relations. Then their intersection (intersection2) is calculated. If intersection1 = intersection2, stop and print results. If not, repeat this procedure until intersection1 = intersection2. When this condition is met, stop and print results.\n",
    "\n",
    "Do collection1 and collection2 have the same cardinality (the same number of equivalence relations)?"
   ]
  },
  {
   "cell_type": "code",
   "execution_count": 72,
   "metadata": {
    "collapsed": false
   },
   "outputs": [
    {
     "name": "stdout",
     "output_type": "stream",
     "text": [
      "For the set of equivalence relations:\n",
      "[['a', 'c'], ['b', 'e'], ['d']]\n",
      "[['a', 'b', 'c', 'e'], ['d']]\n",
      "The intersection is:\n",
      "[['a', 'c'], ['b', 'e'], ['d']]\n",
      "\n",
      "For the set of equivalence relations:\n",
      "[['a', 'b', 'c', 'e'], ['d']]\n",
      "[['a', 'c'], ['b', 'e'], ['d']]\n",
      "[['a', 'c', 'd'], ['b', 'e']]\n",
      "[['a', 'c'], ['b', 'd', 'e']]\n",
      "The intersection is:\n",
      "[['a', 'c'], ['b', 'e'], ['d']]\n"
     ]
    }
   ],
   "source": [
    "collection1 = random.sample(equivalence_relations, 2)\n",
    "intersection1 = fom.calculate_intersection_of_set_of_er(collection1)\n",
    "\n",
    "number_of_equivalence_relations = len(equivalence_relations)\n",
    "number_to_choose = random.randint(1, number_of_equivalence_relations)\n",
    "collection2 = random.sample(equivalence_relations, number_to_choose)\n",
    "intersection2 = fom.calculate_intersection_of_set_of_er(collection2)\n",
    "while intersection1 != intersection2:\n",
    "    number_to_choose = random.randint(1, number_of_equivalence_relations)\n",
    "    collection2 = random.sample(equivalence_relations, number_to_choose)\n",
    "    intersection2 = fom.calculate_intersection_of_set_of_er(collection2)\n",
    "\n",
    "print('For the set of equivalence relations:')\n",
    "for er in collection1:\n",
    "    print(fom.find_partition_from_equivalence_relation(er))\n",
    "print('The intersection is:')\n",
    "print(fom.find_partition_from_equivalence_relation(intersection1))\n",
    "    \n",
    "print()\n",
    "\n",
    "print('For the set of equivalence relations:')\n",
    "for er in collection2:\n",
    "    print(fom.find_partition_from_equivalence_relation(er))\n",
    "print('The intersection is:')    \n",
    "print(fom.find_partition_from_equivalence_relation(intersection2))"
   ]
  },
  {
   "cell_type": "markdown",
   "metadata": {},
   "source": [
    "#### Definition 1.1.12"
   ]
  },
  {
   "cell_type": "markdown",
   "metadata": {},
   "source": [
    "Make a family of mappings from S to X (f1, f2, f3). Find the corresponding partitions (p1, p2, p3) and from these, the corresponding equivalence relations (er1, er2, er3). Calculate their intersection, ER_F, and the partition corresponding to this, P_F. Print p1, p2, p3, and P_F."
   ]
  },
  {
   "cell_type": "code",
   "execution_count": 80,
   "metadata": {
    "collapsed": false
   },
   "outputs": [
    {
     "name": "stdout",
     "output_type": "stream",
     "text": [
      "[['a', 'c', 'd', 'e'], ['b']]\n",
      "[['a'], ['b', 'c', 'd'], ['e']]\n",
      "[['a'], ['b'], ['c', 'd', 'e']]\n",
      "[['a'], ['b'], ['c', 'd'], ['e']]\n"
     ]
    }
   ],
   "source": [
    "X = [1, 2, 3]\n",
    "\n",
    "f1 = fom.make_mapping(S, X)\n",
    "f2 = fom.make_mapping(S, X)\n",
    "f3 = fom.make_mapping(S, X)\n",
    "\n",
    "p1 = fom.find_partition_from_mapping(f1)\n",
    "p2 = fom.find_partition_from_mapping(f2)\n",
    "p3 = fom.find_partition_from_mapping(f3)\n",
    "\n",
    "er1 = fom.find_equivalence_relation_from_partition(p1)\n",
    "er2 = fom.find_equivalence_relation_from_partition(p2)\n",
    "er3 = fom.find_equivalence_relation_from_partition(p3)\n",
    "\n",
    "ER_F = fom.calculate_intersection_of_set_of_er([er1, er2, er3])\n",
    "P_F = fom.find_partition_from_equivalence_relation(ER_F)\n",
    "\n",
    "print(p1)\n",
    "print(p2)\n",
    "print(p3)\n",
    "print(P_F)"
   ]
  },
  {
   "cell_type": "markdown",
   "metadata": {},
   "source": [
    "#### Definition 1.1.13"
   ]
  },
  {
   "cell_type": "markdown",
   "metadata": {},
   "source": [
    "Choose R to be ER_F above (shown as P_F). Find a complete set of invariants for ER_F. Print them as the corresponding partitions, followed by their intersection (P_F). "
   ]
  },
  {
   "cell_type": "code",
   "execution_count": 81,
   "metadata": {
    "collapsed": false
   },
   "outputs": [
    {
     "name": "stdout",
     "output_type": "stream",
     "text": [
      "[['a', 'b'], ['c', 'd', 'e']]\n",
      "[['a'], ['b', 'e'], ['c', 'd']]\n",
      "[['a'], ['b'], ['c', 'd'], ['e']]\n"
     ]
    }
   ],
   "source": [
    "collection = fom.find_collection_of_er_with_specified_intersection(ER_F, equivalence_relations)\n",
    "for er in collection:\n",
    "    print(fom.find_partition_from_equivalence_relation(er))\n",
    "print(P_F)"
   ]
  },
  {
   "cell_type": "markdown",
   "metadata": {},
   "source": [
    "#### Remark"
   ]
  },
  {
   "cell_type": "markdown",
   "metadata": {},
   "source": [
    "Note how the members of the collection above are not the same as p1, p2, p3, although their intersections are the same."
   ]
  },
  {
   "cell_type": "code",
   "execution_count": null,
   "metadata": {
    "collapsed": false
   },
   "outputs": [],
   "source": []
  }
 ],
 "metadata": {
  "kernelspec": {
   "display_name": "Python 2",
   "language": "python",
   "name": "python2"
  },
  "language_info": {
   "codemirror_mode": {
    "name": "ipython",
    "version": 2
   },
   "file_extension": ".py",
   "mimetype": "text/x-python",
   "name": "python",
   "nbconvert_exporter": "python",
   "pygments_lexer": "ipython2",
   "version": "2.7.11"
  }
 },
 "nbformat": 4,
 "nbformat_minor": 0
}
